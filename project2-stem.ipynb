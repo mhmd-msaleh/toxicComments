{
 "cells": [
  {
   "cell_type": "markdown",
   "id": "0ff80f9d",
   "metadata": {},
   "source": [
    "## Importing Libraries"
   ]
  },
  {
   "cell_type": "code",
   "execution_count": 4,
   "id": "c86be967",
   "metadata": {},
   "outputs": [
    {
     "name": "stdout",
     "output_type": "stream",
     "text": [
      "Requirement already satisfied: neattext in /home/ec2-user/anaconda3/envs/mxnet_p36/lib/python3.6/site-packages (0.1.2)\n"
     ]
    }
   ],
   "source": [
    "!pip install neattext"
   ]
  },
  {
   "cell_type": "code",
   "execution_count": 5,
   "id": "66bc30a2",
   "metadata": {},
   "outputs": [
    {
     "name": "stdout",
     "output_type": "stream",
     "text": [
      "Requirement already satisfied: scikit-multilearn in /home/ec2-user/anaconda3/envs/mxnet_p36/lib/python3.6/site-packages (0.2.0)\n"
     ]
    }
   ],
   "source": [
    "!pip install scikit-multilearn "
   ]
  },
  {
   "cell_type": "code",
   "execution_count": 6,
   "id": "e759f677",
   "metadata": {},
   "outputs": [
    {
     "name": "stdout",
     "output_type": "stream",
     "text": [
      "Requirement already satisfied: xgboost in /home/ec2-user/anaconda3/envs/mxnet_p36/lib/python3.6/site-packages (1.5.2)\n",
      "Requirement already satisfied: scipy in /home/ec2-user/anaconda3/envs/mxnet_p36/lib/python3.6/site-packages (from xgboost) (1.5.3)\n",
      "Requirement already satisfied: numpy in /home/ec2-user/anaconda3/envs/mxnet_p36/lib/python3.6/site-packages (from xgboost) (1.19.5)\n"
     ]
    }
   ],
   "source": [
    "!pip install xgboost"
   ]
  },
  {
   "cell_type": "code",
   "execution_count": 7,
   "id": "6d58f4e1",
   "metadata": {},
   "outputs": [],
   "source": [
    "import pandas as pd \n",
    "import numpy as np \n",
    "import re\n",
    "import string"
   ]
  },
  {
   "cell_type": "code",
   "execution_count": 8,
   "id": "feb1ccf9",
   "metadata": {},
   "outputs": [],
   "source": [
    "# text processing libraries\n",
    "import re\n",
    "import string\n",
    "from nltk.corpus import stopwords\n",
    "# from nltk.stem.wordnet import WordNetLemmatizer\n",
    "from sklearn.feature_extraction.text import TfidfVectorizer\n",
    "\n"
   ]
  },
  {
   "cell_type": "code",
   "execution_count": 9,
   "id": "b486b0f4",
   "metadata": {},
   "outputs": [],
   "source": [
    "# plot libraries\n",
    "import matplotlib.pyplot as plt\n",
    "import seaborn as sns \n",
    "%matplotlib inline \n",
    "sns.set(color_codes=True)"
   ]
  },
  {
   "cell_type": "code",
   "execution_count": 10,
   "id": "865892cf",
   "metadata": {},
   "outputs": [],
   "source": [
    "# model related libraries\n",
    "from sklearn.linear_model import LogisticRegression\n",
    "from sklearn.multiclass import OneVsRestClassifier\n",
    "from sklearn.model_selection import GridSearchCV\n",
    "from sklearn.svm import LinearSVC\n",
    "from sklearn.naive_bayes import MultinomialNB\n",
    "from sklearn.pipeline import Pipeline\n",
    "\n",
    "# from sklearn.model_selection import train_test_split"
   ]
  },
  {
   "cell_type": "code",
   "execution_count": 11,
   "id": "0497754c",
   "metadata": {},
   "outputs": [],
   "source": [
    "from sklearn.ensemble import GradientBoostingClassifier\n",
    "import xgboost as xgb"
   ]
  },
  {
   "cell_type": "code",
   "execution_count": 12,
   "id": "bbab566b",
   "metadata": {},
   "outputs": [],
   "source": [
    "# metrics\n",
    "from sklearn.metrics import classification_report, multilabel_confusion_matrix, roc_auc_score\n",
    "from sklearn.metrics import accuracy_score, hamming_loss"
   ]
  },
  {
   "cell_type": "code",
   "execution_count": 13,
   "id": "662b371e",
   "metadata": {},
   "outputs": [],
   "source": [
    "# others\n",
    "import warnings\n",
    "warnings.simplefilter(action='ignore', category=FutureWarning)"
   ]
  },
  {
   "cell_type": "markdown",
   "id": "382abaff",
   "metadata": {},
   "source": [
    "## 1. Data Exploration"
   ]
  },
  {
   "cell_type": "markdown",
   "id": "7791322c",
   "metadata": {},
   "source": [
    "First let's look at how the data is organized. "
   ]
  },
  {
   "cell_type": "code",
   "execution_count": 14,
   "id": "5f8e75b7",
   "metadata": {},
   "outputs": [
    {
     "data": {
      "text/html": [
       "<div>\n",
       "<style scoped>\n",
       "    .dataframe tbody tr th:only-of-type {\n",
       "        vertical-align: middle;\n",
       "    }\n",
       "\n",
       "    .dataframe tbody tr th {\n",
       "        vertical-align: top;\n",
       "    }\n",
       "\n",
       "    .dataframe thead th {\n",
       "        text-align: right;\n",
       "    }\n",
       "</style>\n",
       "<table border=\"1\" class=\"dataframe\">\n",
       "  <thead>\n",
       "    <tr style=\"text-align: right;\">\n",
       "      <th></th>\n",
       "      <th>id</th>\n",
       "      <th>comment_text</th>\n",
       "      <th>toxic</th>\n",
       "      <th>severe_toxic</th>\n",
       "      <th>obscene</th>\n",
       "      <th>threat</th>\n",
       "      <th>insult</th>\n",
       "      <th>identity_hate</th>\n",
       "    </tr>\n",
       "  </thead>\n",
       "  <tbody>\n",
       "    <tr>\n",
       "      <th>0</th>\n",
       "      <td>0000997932d777bf</td>\n",
       "      <td>Explanation\\nWhy the edits made under my usern...</td>\n",
       "      <td>0</td>\n",
       "      <td>0</td>\n",
       "      <td>0</td>\n",
       "      <td>0</td>\n",
       "      <td>0</td>\n",
       "      <td>0</td>\n",
       "    </tr>\n",
       "    <tr>\n",
       "      <th>1</th>\n",
       "      <td>000103f0d9cfb60f</td>\n",
       "      <td>D'aww! He matches this background colour I'm s...</td>\n",
       "      <td>0</td>\n",
       "      <td>0</td>\n",
       "      <td>0</td>\n",
       "      <td>0</td>\n",
       "      <td>0</td>\n",
       "      <td>0</td>\n",
       "    </tr>\n",
       "    <tr>\n",
       "      <th>2</th>\n",
       "      <td>000113f07ec002fd</td>\n",
       "      <td>Hey man, I'm really not trying to edit war. It...</td>\n",
       "      <td>0</td>\n",
       "      <td>0</td>\n",
       "      <td>0</td>\n",
       "      <td>0</td>\n",
       "      <td>0</td>\n",
       "      <td>0</td>\n",
       "    </tr>\n",
       "    <tr>\n",
       "      <th>3</th>\n",
       "      <td>0001b41b1c6bb37e</td>\n",
       "      <td>\"\\nMore\\nI can't make any real suggestions on ...</td>\n",
       "      <td>0</td>\n",
       "      <td>0</td>\n",
       "      <td>0</td>\n",
       "      <td>0</td>\n",
       "      <td>0</td>\n",
       "      <td>0</td>\n",
       "    </tr>\n",
       "    <tr>\n",
       "      <th>4</th>\n",
       "      <td>0001d958c54c6e35</td>\n",
       "      <td>You, sir, are my hero. Any chance you remember...</td>\n",
       "      <td>0</td>\n",
       "      <td>0</td>\n",
       "      <td>0</td>\n",
       "      <td>0</td>\n",
       "      <td>0</td>\n",
       "      <td>0</td>\n",
       "    </tr>\n",
       "  </tbody>\n",
       "</table>\n",
       "</div>"
      ],
      "text/plain": [
       "                 id                                       comment_text  toxic  \\\n",
       "0  0000997932d777bf  Explanation\\nWhy the edits made under my usern...      0   \n",
       "1  000103f0d9cfb60f  D'aww! He matches this background colour I'm s...      0   \n",
       "2  000113f07ec002fd  Hey man, I'm really not trying to edit war. It...      0   \n",
       "3  0001b41b1c6bb37e  \"\\nMore\\nI can't make any real suggestions on ...      0   \n",
       "4  0001d958c54c6e35  You, sir, are my hero. Any chance you remember...      0   \n",
       "\n",
       "   severe_toxic  obscene  threat  insult  identity_hate  \n",
       "0             0        0       0       0              0  \n",
       "1             0        0       0       0              0  \n",
       "2             0        0       0       0              0  \n",
       "3             0        0       0       0              0  \n",
       "4             0        0       0       0              0  "
      ]
     },
     "execution_count": 14,
     "metadata": {},
     "output_type": "execute_result"
    }
   ],
   "source": [
    "data = pd.read_csv('data/data.csv')\n",
    "data.head()"
   ]
  },
  {
   "cell_type": "markdown",
   "id": "22253270",
   "metadata": {},
   "source": [
    "#### Then lets make some visualization about the dataset for furhter understanding.\n",
    "\n",
    "Strating from a simple bar chart that shows the number of comments for each category. "
   ]
  },
  {
   "cell_type": "code",
   "execution_count": 15,
   "id": "496d1db1",
   "metadata": {},
   "outputs": [
    {
     "data": {
      "text/plain": [
       "Text(0.5, 0, '# of categories')"
      ]
     },
     "execution_count": 15,
     "metadata": {},
     "output_type": "execute_result"
    },
    {
     "data": {
      "image/png": "[encoded data removed]",
      "text/plain": [
       "<Figure size 576x360 with 1 Axes>"
      ]
     },
     "metadata": {},
     "output_type": "display_data"
    }
   ],
   "source": [
    "labels = ['toxic', 'severe_toxic', 'obscene', 'threat', \n",
    "      'insult', 'identity_hate']\n",
    "labels_data = data[labels]\n",
    "label_count = labels_data.sum()\n",
    "plt.figure(figsize=(8,5))\n",
    "ax = sns.barplot(label_count.index, label_count.values)\n",
    "plt.title(\"# of comments per category\")\n",
    "plt.ylabel('# of Occurrences', fontsize=12)\n",
    "plt.xlabel('# of categories', fontsize=12)"
   ]
  },
  {
   "cell_type": "code",
   "execution_count": 16,
   "id": "aec5b7f2",
   "metadata": {},
   "outputs": [],
   "source": [
    "# test_data = pd.read_csv('data/test.csv')\n",
    "# test_labels = pd.read_csv('data/test_labels.csv')"
   ]
  },
  {
   "cell_type": "markdown",
   "id": "2023a004",
   "metadata": {},
   "source": [
    "Since the categories are not mutally exclusive, let's see how many categories each comment coantains. "
   ]
  },
  {
   "cell_type": "code",
   "execution_count": 17,
   "id": "f875c598",
   "metadata": {},
   "outputs": [
    {
     "data": {
      "text/plain": [
       "Text(0.5, 0, '# of categories')"
      ]
     },
     "execution_count": 17,
     "metadata": {},
     "output_type": "execute_result"
    },
    {
     "data": {
      "image/png": "[encoded data removed]",
      "text/plain": [
       "<Figure size 576x360 with 1 Axes>"
      ]
     },
     "metadata": {},
     "output_type": "display_data"
    }
   ],
   "source": [
    "rowsums = data.iloc[:,2:].sum(axis=1)\n",
    "x=rowsums.value_counts()#plot\n",
    "plt.figure(figsize=(8,5))\n",
    "ax = sns.barplot(x.index, x.values)\n",
    "plt.ylabel('# of Occurrences', fontsize=12)\n",
    "plt.xlabel('# of categories', fontsize=12)"
   ]
  },
  {
   "cell_type": "markdown",
   "id": "7dd31055",
   "metadata": {},
   "source": [
    "We can see that the dataset is biased towards non-categoized comments. \n",
    "\n"
   ]
  },
  {
   "cell_type": "code",
   "execution_count": 18,
   "id": "00ce889c",
   "metadata": {},
   "outputs": [
    {
     "data": {
      "image/png": "[encoded data removed]",
      "text/plain": [
       "<Figure size 576x360 with 1 Axes>"
      ]
     },
     "metadata": {},
     "output_type": "display_data"
    }
   ],
   "source": [
    "plt.figure(figsize=(8,5))\n",
    "g = sns.countplot(data['toxic'])\n",
    "plt.show()"
   ]
  },
  {
   "cell_type": "code",
   "execution_count": 19,
   "id": "47646ab1",
   "metadata": {},
   "outputs": [],
   "source": [
    "def plot_data(): \n",
    "    barWidth = 0.35\n",
    "    plt.figure(figsize=(8,5))\n",
    "    bars1 = [sum(data['toxic'] == 1), sum(data['severe_toxic'] == 1), sum(data['obscene'] == 1), sum(data['threat'] == 1),\n",
    "             sum(data['insult'] == 1), sum(data['identity_hate'] == 1)]\n",
    "    bars2 = [sum(data['toxic'] == 0), sum(data['severe_toxic'] == 0), sum(data['obscene'] == 0), sum(data['threat'] == 0),\n",
    "             sum(data['insult'] == 0), sum(data['identity_hate'] == 0)]\n",
    "\n",
    "    r1 = np.arange(len(bars1))\n",
    "    r2 = [x + barWidth for x in r1]\n",
    "\n",
    "    plt.bar(r1, bars1, color='steelblue', width=barWidth, label='classified')\n",
    "    plt.bar(r2, bars2, color='lightsteelblue', width=barWidth, label='not_classified')\n",
    "\n",
    "    plt.xlabel('categories')\n",
    "    plt.ylabel('# of comments')\n",
    "    plt.xticks([r + barWidth for r in range(len(bars1))], labels)\n",
    "\n",
    "    plt.legend()\n",
    "    plt.show()\n",
    "    pass "
   ]
  },
  {
   "cell_type": "code",
   "execution_count": 20,
   "id": "4687e768",
   "metadata": {},
   "outputs": [
    {
     "data": {
      "image/png": "[encoded data removed]",
      "text/plain": [
       "<Figure size 576x360 with 1 Axes>"
      ]
     },
     "metadata": {},
     "output_type": "display_data"
    }
   ],
   "source": [
    "plot_data()"
   ]
  },
  {
   "cell_type": "markdown",
   "id": "e8a96202",
   "metadata": {},
   "source": [
    "The plot above shows that there is an imbalance dataset. So, to address this issue we will need to drop data that does not fall into any category"
   ]
  },
  {
   "cell_type": "code",
   "execution_count": 21,
   "id": "f75be64d",
   "metadata": {},
   "outputs": [],
   "source": [
    "data.drop('id', axis=1, inplace=True)\n",
    "data_drop = data[\n",
    "    (data['toxic'] == 0) & \n",
    "    (data['severe_toxic'] == 0) & \n",
    "    (data['obscene'] == 0) & \n",
    "    (data['threat'] == 0) & \n",
    "    (data['insult'] == 0) & \n",
    "    (data['identity_hate'] == 0)\n",
    "         ].head(int(len(data)*(60/100)))\n",
    "\n",
    "data.drop(data_drop.index, axis=0, inplace=True)\n",
    "data.reset_index(drop=True, inplace=True)"
   ]
  },
  {
   "cell_type": "code",
   "execution_count": 22,
   "id": "0ffbbd96",
   "metadata": {},
   "outputs": [
    {
     "data": {
      "image/png": "[encoded data removed]",
      "text/plain": [
       "<Figure size 576x360 with 1 Axes>"
      ]
     },
     "metadata": {},
     "output_type": "display_data"
    }
   ],
   "source": [
    "plot_data()"
   ]
  },
  {
   "cell_type": "markdown",
   "id": "27cba8e4",
   "metadata": {},
   "source": [
    "The data does not seem to perform well, when we tried to remove some entris.\n",
    "\n",
    "So, we need to re-read the origian dataset. "
   ]
  },
  {
   "cell_type": "code",
   "execution_count": 44,
   "id": "b25ef22e",
   "metadata": {},
   "outputs": [],
   "source": [
    "data = pd.read_csv('data/data.csv')"
   ]
  },
  {
   "cell_type": "markdown",
   "id": "595b5075",
   "metadata": {},
   "source": [
    "## 2. Data Preparation\n",
    "\n",
    "### Data Preprocessing"
   ]
  },
  {
   "cell_type": "markdown",
   "id": "f1d4430b",
   "metadata": {},
   "source": [
    "For data cleaning we need to define a function to: \n",
    "  * `Remove HTML tags`\n",
    "  * `Convert all letters into lowerecase`\n",
    "  * `Remove all non-alphapet characters`"
   ]
  },
  {
   "cell_type": "code",
   "execution_count": 40,
   "id": "d98682f4",
   "metadata": {},
   "outputs": [
    {
     "name": "stderr",
     "output_type": "stream",
     "text": [
      "[nltk_data] Downloading package stopwords to\n",
      "[nltk_data]     /home/ec2-user/nltk_data...\n",
      "[nltk_data]   Package stopwords is already up-to-date!\n"
     ]
    }
   ],
   "source": [
    "import neattext.functions as nfx\n",
    "import re\n",
    "from bs4 import BeautifulSoup\n",
    "# from nltk.stem.porter import *\n",
    "from nltk.stem import SnowballStemmer\n",
    "import nltk\n",
    "nltk.download('stopwords')\n",
    "stop_words = set(stopwords.words('english'))\n",
    "\n",
    "def preprocess_text(data):\n",
    "    stemmer = SnowballStemmer(language='english')\n",
    "    text = BeautifulSoup(data, \"html.parser\").get_text() # Remove HTML tags\n",
    "    text = re.sub(r\"[^a-zA-Z]\", \" \", text.lower()) # Convert to lower case\n",
    "    words = text.split()\n",
    "    words = [stemmer.stem(w) for w in words if w not in stopwords.words(\"english\")] # Remove stopwords\n",
    "#     words = [stemmer.stem(w) for w in words] # stem\n",
    "    words = ' '.join(words)\n",
    "\n",
    "    return words"
   ]
  },
  {
   "cell_type": "markdown",
   "id": "864cffb7",
   "metadata": {},
   "source": [
    "First, let's take a look at a sample origianl comment."
   ]
  },
  {
   "cell_type": "code",
   "execution_count": 47,
   "id": "536c3ddb",
   "metadata": {},
   "outputs": [
    {
     "data": {
      "text/plain": [
       "\"Explanation\\nWhy the edits made under my username Hardcore Metallica Fan were reverted? They weren't vandalisms, just closure on some GAs after I voted at New York Dolls FAC. And please don't remove the template from the talk page since I'm retired now.89.205.38.27\""
      ]
     },
     "execution_count": 47,
     "metadata": {},
     "output_type": "execute_result"
    }
   ],
   "source": [
    "data['comment_text'][0]"
   ]
  },
  {
   "cell_type": "markdown",
   "id": "24ce12fd",
   "metadata": {},
   "source": [
    "Then let's see the same comment after cleaning. "
   ]
  },
  {
   "cell_type": "code",
   "execution_count": 41,
   "id": "1e8b1149",
   "metadata": {},
   "outputs": [
    {
     "data": {
      "text/plain": [
       "'explan edit made usernam hardcor metallica fan revert vandal closur gas vote new york doll fac pleas remov templat talk page sinc retir'"
      ]
     },
     "execution_count": 41,
     "metadata": {},
     "output_type": "execute_result"
    }
   ],
   "source": [
    "preprocess_text(data['comment_text'][0])"
   ]
  },
  {
   "cell_type": "markdown",
   "id": "ba76bf38",
   "metadata": {},
   "source": [
    "Processing all comments in the training set. "
   ]
  },
  {
   "cell_type": "code",
   "execution_count": 48,
   "id": "3b47a086",
   "metadata": {},
   "outputs": [
    {
     "name": "stderr",
     "output_type": "stream",
     "text": [
      "/home/ec2-user/anaconda3/envs/mxnet_p36/lib/python3.6/site-packages/bs4/__init__.py:424: MarkupResemblesLocatorWarning: \"http://en.wikipedia.org/wiki/Wikipedia_talk:No_original_research/archive15#YouTube_art_as_primary_source\" looks like a URL. Beautiful Soup is not an HTTP client. You should probably use an HTTP client like requests to get the document behind the URL, and feed that document to Beautiful Soup.\n",
      "  MarkupResemblesLocatorWarning\n",
      "/home/ec2-user/anaconda3/envs/mxnet_p36/lib/python3.6/site-packages/bs4/__init__.py:424: MarkupResemblesLocatorWarning: \"http://finance.yahoo.com/news/7-fascinating-nuggets-another-bewildering-150348488.html\" looks like a URL. Beautiful Soup is not an HTTP client. You should probably use an HTTP client like requests to get the document behind the URL, and feed that document to Beautiful Soup.\n",
      "  MarkupResemblesLocatorWarning\n",
      "/home/ec2-user/anaconda3/envs/mxnet_p36/lib/python3.6/site-packages/bs4/__init__.py:424: MarkupResemblesLocatorWarning: \"http://en.wikipedia.org/wiki/Wikipedia:ELYES\" looks like a URL. Beautiful Soup is not an HTTP client. You should probably use an HTTP client like requests to get the document behind the URL, and feed that document to Beautiful Soup.\n",
      "  MarkupResemblesLocatorWarning\n",
      "/home/ec2-user/anaconda3/envs/mxnet_p36/lib/python3.6/site-packages/bs4/__init__.py:424: MarkupResemblesLocatorWarning: \"http://www.haaretz.com/news/diplomacy-defense/2-279-calories-per-person-how-israel-made-sure-gaza-didn-t-starve.premium-1.470419\" looks like a URL. Beautiful Soup is not an HTTP client. You should probably use an HTTP client like requests to get the document behind the URL, and feed that document to Beautiful Soup.\n",
      "  MarkupResemblesLocatorWarning\n"
     ]
    }
   ],
   "source": [
    "data['comment_text'] = data['comment_text'].apply(preprocess_text)\n",
    "# data['comment_text'] = [preprocess_text(comment) for comment in data['comment_text']]"
   ]
  },
  {
   "cell_type": "code",
   "execution_count": 50,
   "id": "e2645541",
   "metadata": {},
   "outputs": [],
   "source": [
    "data.drop('id', inplace=True, axis=1)\n",
    "data.reset_index(drop=True, inplace=True)\n",
    "data.to_csv('data/train-processed.csv')"
   ]
  },
  {
   "cell_type": "code",
   "execution_count": null,
   "id": "d8ee0def",
   "metadata": {},
   "outputs": [],
   "source": [
    "# data.to_csv('model_data/train.csv', index=False, header=False)"
   ]
  },
  {
   "cell_type": "markdown",
   "id": "79051eb6",
   "metadata": {},
   "source": [
    "### Preparing training and testing sets \n",
    "\n",
    "\n",
    "The dataset obtained has already provided us with training a testing sets. \n",
    "\n",
    "The data above will be our training data, and the upcoming cells will read the testing data and prepare it for the model. "
   ]
  },
  {
   "cell_type": "code",
   "execution_count": 53,
   "id": "99550f1e",
   "metadata": {},
   "outputs": [],
   "source": [
    "# Read test.csv and test_labels files\n",
    "\n",
    "train = data.copy()\n",
    "data = pd.read_csv('data/test.csv')\n",
    "data_labels = pd.read_csv('data/test_labels.csv')"
   ]
  },
  {
   "cell_type": "markdown",
   "id": "fffb0dc6",
   "metadata": {},
   "source": []
  },
  {
   "cell_type": "code",
   "execution_count": 54,
   "id": "3d2c75de",
   "metadata": {},
   "outputs": [
    {
     "data": {
      "text/html": [
       "<div>\n",
       "<style scoped>\n",
       "    .dataframe tbody tr th:only-of-type {\n",
       "        vertical-align: middle;\n",
       "    }\n",
       "\n",
       "    .dataframe tbody tr th {\n",
       "        vertical-align: top;\n",
       "    }\n",
       "\n",
       "    .dataframe thead th {\n",
       "        text-align: right;\n",
       "    }\n",
       "</style>\n",
       "<table border=\"1\" class=\"dataframe\">\n",
       "  <thead>\n",
       "    <tr style=\"text-align: right;\">\n",
       "      <th></th>\n",
       "      <th>id</th>\n",
       "      <th>comment_text</th>\n",
       "    </tr>\n",
       "  </thead>\n",
       "  <tbody>\n",
       "    <tr>\n",
       "      <th>0</th>\n",
       "      <td>00001cee341fdb12</td>\n",
       "      <td>Yo bitch Ja Rule is more succesful then you'll...</td>\n",
       "    </tr>\n",
       "    <tr>\n",
       "      <th>1</th>\n",
       "      <td>0000247867823ef7</td>\n",
       "      <td>== From RfC == \\n\\n The title is fine as it is...</td>\n",
       "    </tr>\n",
       "    <tr>\n",
       "      <th>2</th>\n",
       "      <td>00013b17ad220c46</td>\n",
       "      <td>\" \\n\\n == Sources == \\n\\n * Zawe Ashton on Lap...</td>\n",
       "    </tr>\n",
       "    <tr>\n",
       "      <th>3</th>\n",
       "      <td>00017563c3f7919a</td>\n",
       "      <td>:If you have a look back at the source, the in...</td>\n",
       "    </tr>\n",
       "    <tr>\n",
       "      <th>4</th>\n",
       "      <td>00017695ad8997eb</td>\n",
       "      <td>I don't anonymously edit articles at all.</td>\n",
       "    </tr>\n",
       "    <tr>\n",
       "      <th>...</th>\n",
       "      <td>...</td>\n",
       "      <td>...</td>\n",
       "    </tr>\n",
       "    <tr>\n",
       "      <th>153159</th>\n",
       "      <td>fffcd0960ee309b5</td>\n",
       "      <td>. \\n i totally agree, this stuff is nothing bu...</td>\n",
       "    </tr>\n",
       "    <tr>\n",
       "      <th>153160</th>\n",
       "      <td>fffd7a9a6eb32c16</td>\n",
       "      <td>== Throw from out field to home plate. == \\n\\n...</td>\n",
       "    </tr>\n",
       "    <tr>\n",
       "      <th>153161</th>\n",
       "      <td>fffda9e8d6fafa9e</td>\n",
       "      <td>\" \\n\\n == Okinotorishima categories == \\n\\n I ...</td>\n",
       "    </tr>\n",
       "    <tr>\n",
       "      <th>153162</th>\n",
       "      <td>fffe8f1340a79fc2</td>\n",
       "      <td>\" \\n\\n == \"\"One of the founding nations of the...</td>\n",
       "    </tr>\n",
       "    <tr>\n",
       "      <th>153163</th>\n",
       "      <td>ffffce3fb183ee80</td>\n",
       "      <td>\" \\n :::Stop already. Your bullshit is not wel...</td>\n",
       "    </tr>\n",
       "  </tbody>\n",
       "</table>\n",
       "<p>153164 rows × 2 columns</p>\n",
       "</div>"
      ],
      "text/plain": [
       "                      id                                       comment_text\n",
       "0       00001cee341fdb12  Yo bitch Ja Rule is more succesful then you'll...\n",
       "1       0000247867823ef7  == From RfC == \\n\\n The title is fine as it is...\n",
       "2       00013b17ad220c46  \" \\n\\n == Sources == \\n\\n * Zawe Ashton on Lap...\n",
       "3       00017563c3f7919a  :If you have a look back at the source, the in...\n",
       "4       00017695ad8997eb          I don't anonymously edit articles at all.\n",
       "...                  ...                                                ...\n",
       "153159  fffcd0960ee309b5  . \\n i totally agree, this stuff is nothing bu...\n",
       "153160  fffd7a9a6eb32c16  == Throw from out field to home plate. == \\n\\n...\n",
       "153161  fffda9e8d6fafa9e  \" \\n\\n == Okinotorishima categories == \\n\\n I ...\n",
       "153162  fffe8f1340a79fc2  \" \\n\\n == \"\"One of the founding nations of the...\n",
       "153163  ffffce3fb183ee80  \" \\n :::Stop already. Your bullshit is not wel...\n",
       "\n",
       "[153164 rows x 2 columns]"
      ]
     },
     "execution_count": 54,
     "metadata": {},
     "output_type": "execute_result"
    }
   ],
   "source": [
    "data"
   ]
  },
  {
   "cell_type": "code",
   "execution_count": 55,
   "id": "42ce386f",
   "metadata": {},
   "outputs": [
    {
     "data": {
      "text/html": [
       "<div>\n",
       "<style scoped>\n",
       "    .dataframe tbody tr th:only-of-type {\n",
       "        vertical-align: middle;\n",
       "    }\n",
       "\n",
       "    .dataframe tbody tr th {\n",
       "        vertical-align: top;\n",
       "    }\n",
       "\n",
       "    .dataframe thead th {\n",
       "        text-align: right;\n",
       "    }\n",
       "</style>\n",
       "<table border=\"1\" class=\"dataframe\">\n",
       "  <thead>\n",
       "    <tr style=\"text-align: right;\">\n",
       "      <th></th>\n",
       "      <th>id</th>\n",
       "      <th>toxic</th>\n",
       "      <th>severe_toxic</th>\n",
       "      <th>obscene</th>\n",
       "      <th>threat</th>\n",
       "      <th>insult</th>\n",
       "      <th>identity_hate</th>\n",
       "    </tr>\n",
       "  </thead>\n",
       "  <tbody>\n",
       "    <tr>\n",
       "      <th>0</th>\n",
       "      <td>00001cee341fdb12</td>\n",
       "      <td>-1</td>\n",
       "      <td>-1</td>\n",
       "      <td>-1</td>\n",
       "      <td>-1</td>\n",
       "      <td>-1</td>\n",
       "      <td>-1</td>\n",
       "    </tr>\n",
       "    <tr>\n",
       "      <th>1</th>\n",
       "      <td>0000247867823ef7</td>\n",
       "      <td>-1</td>\n",
       "      <td>-1</td>\n",
       "      <td>-1</td>\n",
       "      <td>-1</td>\n",
       "      <td>-1</td>\n",
       "      <td>-1</td>\n",
       "    </tr>\n",
       "    <tr>\n",
       "      <th>2</th>\n",
       "      <td>00013b17ad220c46</td>\n",
       "      <td>-1</td>\n",
       "      <td>-1</td>\n",
       "      <td>-1</td>\n",
       "      <td>-1</td>\n",
       "      <td>-1</td>\n",
       "      <td>-1</td>\n",
       "    </tr>\n",
       "    <tr>\n",
       "      <th>3</th>\n",
       "      <td>00017563c3f7919a</td>\n",
       "      <td>-1</td>\n",
       "      <td>-1</td>\n",
       "      <td>-1</td>\n",
       "      <td>-1</td>\n",
       "      <td>-1</td>\n",
       "      <td>-1</td>\n",
       "    </tr>\n",
       "    <tr>\n",
       "      <th>4</th>\n",
       "      <td>00017695ad8997eb</td>\n",
       "      <td>-1</td>\n",
       "      <td>-1</td>\n",
       "      <td>-1</td>\n",
       "      <td>-1</td>\n",
       "      <td>-1</td>\n",
       "      <td>-1</td>\n",
       "    </tr>\n",
       "    <tr>\n",
       "      <th>...</th>\n",
       "      <td>...</td>\n",
       "      <td>...</td>\n",
       "      <td>...</td>\n",
       "      <td>...</td>\n",
       "      <td>...</td>\n",
       "      <td>...</td>\n",
       "      <td>...</td>\n",
       "    </tr>\n",
       "    <tr>\n",
       "      <th>153159</th>\n",
       "      <td>fffcd0960ee309b5</td>\n",
       "      <td>-1</td>\n",
       "      <td>-1</td>\n",
       "      <td>-1</td>\n",
       "      <td>-1</td>\n",
       "      <td>-1</td>\n",
       "      <td>-1</td>\n",
       "    </tr>\n",
       "    <tr>\n",
       "      <th>153160</th>\n",
       "      <td>fffd7a9a6eb32c16</td>\n",
       "      <td>-1</td>\n",
       "      <td>-1</td>\n",
       "      <td>-1</td>\n",
       "      <td>-1</td>\n",
       "      <td>-1</td>\n",
       "      <td>-1</td>\n",
       "    </tr>\n",
       "    <tr>\n",
       "      <th>153161</th>\n",
       "      <td>fffda9e8d6fafa9e</td>\n",
       "      <td>-1</td>\n",
       "      <td>-1</td>\n",
       "      <td>-1</td>\n",
       "      <td>-1</td>\n",
       "      <td>-1</td>\n",
       "      <td>-1</td>\n",
       "    </tr>\n",
       "    <tr>\n",
       "      <th>153162</th>\n",
       "      <td>fffe8f1340a79fc2</td>\n",
       "      <td>-1</td>\n",
       "      <td>-1</td>\n",
       "      <td>-1</td>\n",
       "      <td>-1</td>\n",
       "      <td>-1</td>\n",
       "      <td>-1</td>\n",
       "    </tr>\n",
       "    <tr>\n",
       "      <th>153163</th>\n",
       "      <td>ffffce3fb183ee80</td>\n",
       "      <td>-1</td>\n",
       "      <td>-1</td>\n",
       "      <td>-1</td>\n",
       "      <td>-1</td>\n",
       "      <td>-1</td>\n",
       "      <td>-1</td>\n",
       "    </tr>\n",
       "  </tbody>\n",
       "</table>\n",
       "<p>153164 rows × 7 columns</p>\n",
       "</div>"
      ],
      "text/plain": [
       "                      id  toxic  severe_toxic  obscene  threat  insult  \\\n",
       "0       00001cee341fdb12     -1            -1       -1      -1      -1   \n",
       "1       0000247867823ef7     -1            -1       -1      -1      -1   \n",
       "2       00013b17ad220c46     -1            -1       -1      -1      -1   \n",
       "3       00017563c3f7919a     -1            -1       -1      -1      -1   \n",
       "4       00017695ad8997eb     -1            -1       -1      -1      -1   \n",
       "...                  ...    ...           ...      ...     ...     ...   \n",
       "153159  fffcd0960ee309b5     -1            -1       -1      -1      -1   \n",
       "153160  fffd7a9a6eb32c16     -1            -1       -1      -1      -1   \n",
       "153161  fffda9e8d6fafa9e     -1            -1       -1      -1      -1   \n",
       "153162  fffe8f1340a79fc2     -1            -1       -1      -1      -1   \n",
       "153163  ffffce3fb183ee80     -1            -1       -1      -1      -1   \n",
       "\n",
       "        identity_hate  \n",
       "0                  -1  \n",
       "1                  -1  \n",
       "2                  -1  \n",
       "3                  -1  \n",
       "4                  -1  \n",
       "...               ...  \n",
       "153159             -1  \n",
       "153160             -1  \n",
       "153161             -1  \n",
       "153162             -1  \n",
       "153163             -1  \n",
       "\n",
       "[153164 rows x 7 columns]"
      ]
     },
     "execution_count": 55,
     "metadata": {},
     "output_type": "execute_result"
    }
   ],
   "source": [
    "data_labels"
   ]
  },
  {
   "cell_type": "markdown",
   "id": "42274449",
   "metadata": {},
   "source": [
    "We can see that the testing set is devided into two sets, one conatins the comments ` X ` and the other contains the labels ` y `. Where they are linked via the comment id number. \n",
    "\n",
    "We can also notice that some comments conatain label values of  ` -1 `, which according to the dataset source indicates an ingonre signal that does not mean anything. \n",
    "So we will drop rows that conatians -1 labels in both data and data_labels sets. "
   ]
  },
  {
   "cell_type": "code",
   "execution_count": 56,
   "id": "5c551f21",
   "metadata": {},
   "outputs": [],
   "source": [
    "drop_index = data_labels[\n",
    "    (data_labels['toxic'] == -1) | \n",
    "    (data_labels['severe_toxic'] == -1) | \n",
    "    (data_labels['obscene'] == -1) | \n",
    "    (data_labels['threat'] == -1) | \n",
    "    (data_labels['insult'] == -1) | \n",
    "    (data_labels['identity_hate'] == -1)\n",
    "]['id']\n",
    "\n",
    "# data.drop(drop_index.id, axis=0, inplace=True)\n",
    "# data_labels.drop(drop_index.id, axis=0, inplace=True)\n",
    "# new_df = sales[~sales.CustomerID.isin(badcu)]\n",
    "data = data[~data.id.isin(drop_index)]\n",
    "data_labels = data_labels[~data_labels.id.isin(drop_index)]"
   ]
  },
  {
   "cell_type": "code",
   "execution_count": 57,
   "id": "ab948adc",
   "metadata": {},
   "outputs": [
    {
     "data": {
      "text/html": [
       "<div>\n",
       "<style scoped>\n",
       "    .dataframe tbody tr th:only-of-type {\n",
       "        vertical-align: middle;\n",
       "    }\n",
       "\n",
       "    .dataframe tbody tr th {\n",
       "        vertical-align: top;\n",
       "    }\n",
       "\n",
       "    .dataframe thead th {\n",
       "        text-align: right;\n",
       "    }\n",
       "</style>\n",
       "<table border=\"1\" class=\"dataframe\">\n",
       "  <thead>\n",
       "    <tr style=\"text-align: right;\">\n",
       "      <th></th>\n",
       "      <th>id</th>\n",
       "      <th>comment_text</th>\n",
       "    </tr>\n",
       "  </thead>\n",
       "  <tbody>\n",
       "    <tr>\n",
       "      <th>5</th>\n",
       "      <td>0001ea8717f6de06</td>\n",
       "      <td>Thank you for understanding. I think very high...</td>\n",
       "    </tr>\n",
       "    <tr>\n",
       "      <th>7</th>\n",
       "      <td>000247e83dcc1211</td>\n",
       "      <td>:Dear god this site is horrible.</td>\n",
       "    </tr>\n",
       "    <tr>\n",
       "      <th>11</th>\n",
       "      <td>0002f87b16116a7f</td>\n",
       "      <td>\"::: Somebody will invariably try to add Relig...</td>\n",
       "    </tr>\n",
       "    <tr>\n",
       "      <th>13</th>\n",
       "      <td>0003e1cccfd5a40a</td>\n",
       "      <td>\" \\n\\n It says it right there that it IS a typ...</td>\n",
       "    </tr>\n",
       "    <tr>\n",
       "      <th>14</th>\n",
       "      <td>00059ace3e3e9a53</td>\n",
       "      <td>\" \\n\\n == Before adding a new product to the l...</td>\n",
       "    </tr>\n",
       "    <tr>\n",
       "      <th>...</th>\n",
       "      <td>...</td>\n",
       "      <td>...</td>\n",
       "    </tr>\n",
       "    <tr>\n",
       "      <th>153150</th>\n",
       "      <td>fff8f64043129fa2</td>\n",
       "      <td>:Jerome, I see you never got around to this…! ...</td>\n",
       "    </tr>\n",
       "    <tr>\n",
       "      <th>153151</th>\n",
       "      <td>fff9d70fe0722906</td>\n",
       "      <td>==Lucky bastard== \\n http://wikimediafoundatio...</td>\n",
       "    </tr>\n",
       "    <tr>\n",
       "      <th>153154</th>\n",
       "      <td>fffa8a11c4378854</td>\n",
       "      <td>==shame on you all!!!== \\n\\n You want to speak...</td>\n",
       "    </tr>\n",
       "    <tr>\n",
       "      <th>153155</th>\n",
       "      <td>fffac2a094c8e0e2</td>\n",
       "      <td>MEL GIBSON IS A NAZI BITCH WHO MAKES SHITTY MO...</td>\n",
       "    </tr>\n",
       "    <tr>\n",
       "      <th>153156</th>\n",
       "      <td>fffb5451268fb5ba</td>\n",
       "      <td>\" \\n\\n == Unicorn lair discovery == \\n\\n Suppo...</td>\n",
       "    </tr>\n",
       "  </tbody>\n",
       "</table>\n",
       "<p>63978 rows × 2 columns</p>\n",
       "</div>"
      ],
      "text/plain": [
       "                      id                                       comment_text\n",
       "5       0001ea8717f6de06  Thank you for understanding. I think very high...\n",
       "7       000247e83dcc1211                   :Dear god this site is horrible.\n",
       "11      0002f87b16116a7f  \"::: Somebody will invariably try to add Relig...\n",
       "13      0003e1cccfd5a40a  \" \\n\\n It says it right there that it IS a typ...\n",
       "14      00059ace3e3e9a53  \" \\n\\n == Before adding a new product to the l...\n",
       "...                  ...                                                ...\n",
       "153150  fff8f64043129fa2  :Jerome, I see you never got around to this…! ...\n",
       "153151  fff9d70fe0722906  ==Lucky bastard== \\n http://wikimediafoundatio...\n",
       "153154  fffa8a11c4378854  ==shame on you all!!!== \\n\\n You want to speak...\n",
       "153155  fffac2a094c8e0e2  MEL GIBSON IS A NAZI BITCH WHO MAKES SHITTY MO...\n",
       "153156  fffb5451268fb5ba  \" \\n\\n == Unicorn lair discovery == \\n\\n Suppo...\n",
       "\n",
       "[63978 rows x 2 columns]"
      ]
     },
     "execution_count": 57,
     "metadata": {},
     "output_type": "execute_result"
    }
   ],
   "source": [
    "data"
   ]
  },
  {
   "cell_type": "code",
   "execution_count": 58,
   "id": "930c6016",
   "metadata": {},
   "outputs": [
    {
     "data": {
      "text/html": [
       "<div>\n",
       "<style scoped>\n",
       "    .dataframe tbody tr th:only-of-type {\n",
       "        vertical-align: middle;\n",
       "    }\n",
       "\n",
       "    .dataframe tbody tr th {\n",
       "        vertical-align: top;\n",
       "    }\n",
       "\n",
       "    .dataframe thead th {\n",
       "        text-align: right;\n",
       "    }\n",
       "</style>\n",
       "<table border=\"1\" class=\"dataframe\">\n",
       "  <thead>\n",
       "    <tr style=\"text-align: right;\">\n",
       "      <th></th>\n",
       "      <th>id</th>\n",
       "      <th>toxic</th>\n",
       "      <th>severe_toxic</th>\n",
       "      <th>obscene</th>\n",
       "      <th>threat</th>\n",
       "      <th>insult</th>\n",
       "      <th>identity_hate</th>\n",
       "    </tr>\n",
       "  </thead>\n",
       "  <tbody>\n",
       "    <tr>\n",
       "      <th>5</th>\n",
       "      <td>0001ea8717f6de06</td>\n",
       "      <td>0</td>\n",
       "      <td>0</td>\n",
       "      <td>0</td>\n",
       "      <td>0</td>\n",
       "      <td>0</td>\n",
       "      <td>0</td>\n",
       "    </tr>\n",
       "    <tr>\n",
       "      <th>7</th>\n",
       "      <td>000247e83dcc1211</td>\n",
       "      <td>0</td>\n",
       "      <td>0</td>\n",
       "      <td>0</td>\n",
       "      <td>0</td>\n",
       "      <td>0</td>\n",
       "      <td>0</td>\n",
       "    </tr>\n",
       "    <tr>\n",
       "      <th>11</th>\n",
       "      <td>0002f87b16116a7f</td>\n",
       "      <td>0</td>\n",
       "      <td>0</td>\n",
       "      <td>0</td>\n",
       "      <td>0</td>\n",
       "      <td>0</td>\n",
       "      <td>0</td>\n",
       "    </tr>\n",
       "    <tr>\n",
       "      <th>13</th>\n",
       "      <td>0003e1cccfd5a40a</td>\n",
       "      <td>0</td>\n",
       "      <td>0</td>\n",
       "      <td>0</td>\n",
       "      <td>0</td>\n",
       "      <td>0</td>\n",
       "      <td>0</td>\n",
       "    </tr>\n",
       "    <tr>\n",
       "      <th>14</th>\n",
       "      <td>00059ace3e3e9a53</td>\n",
       "      <td>0</td>\n",
       "      <td>0</td>\n",
       "      <td>0</td>\n",
       "      <td>0</td>\n",
       "      <td>0</td>\n",
       "      <td>0</td>\n",
       "    </tr>\n",
       "    <tr>\n",
       "      <th>...</th>\n",
       "      <td>...</td>\n",
       "      <td>...</td>\n",
       "      <td>...</td>\n",
       "      <td>...</td>\n",
       "      <td>...</td>\n",
       "      <td>...</td>\n",
       "      <td>...</td>\n",
       "    </tr>\n",
       "    <tr>\n",
       "      <th>153150</th>\n",
       "      <td>fff8f64043129fa2</td>\n",
       "      <td>0</td>\n",
       "      <td>0</td>\n",
       "      <td>0</td>\n",
       "      <td>0</td>\n",
       "      <td>0</td>\n",
       "      <td>0</td>\n",
       "    </tr>\n",
       "    <tr>\n",
       "      <th>153151</th>\n",
       "      <td>fff9d70fe0722906</td>\n",
       "      <td>0</td>\n",
       "      <td>0</td>\n",
       "      <td>0</td>\n",
       "      <td>0</td>\n",
       "      <td>0</td>\n",
       "      <td>0</td>\n",
       "    </tr>\n",
       "    <tr>\n",
       "      <th>153154</th>\n",
       "      <td>fffa8a11c4378854</td>\n",
       "      <td>0</td>\n",
       "      <td>0</td>\n",
       "      <td>0</td>\n",
       "      <td>0</td>\n",
       "      <td>0</td>\n",
       "      <td>0</td>\n",
       "    </tr>\n",
       "    <tr>\n",
       "      <th>153155</th>\n",
       "      <td>fffac2a094c8e0e2</td>\n",
       "      <td>1</td>\n",
       "      <td>0</td>\n",
       "      <td>1</td>\n",
       "      <td>0</td>\n",
       "      <td>1</td>\n",
       "      <td>0</td>\n",
       "    </tr>\n",
       "    <tr>\n",
       "      <th>153156</th>\n",
       "      <td>fffb5451268fb5ba</td>\n",
       "      <td>0</td>\n",
       "      <td>0</td>\n",
       "      <td>0</td>\n",
       "      <td>0</td>\n",
       "      <td>0</td>\n",
       "      <td>0</td>\n",
       "    </tr>\n",
       "  </tbody>\n",
       "</table>\n",
       "<p>63978 rows × 7 columns</p>\n",
       "</div>"
      ],
      "text/plain": [
       "                      id  toxic  severe_toxic  obscene  threat  insult  \\\n",
       "5       0001ea8717f6de06      0             0        0       0       0   \n",
       "7       000247e83dcc1211      0             0        0       0       0   \n",
       "11      0002f87b16116a7f      0             0        0       0       0   \n",
       "13      0003e1cccfd5a40a      0             0        0       0       0   \n",
       "14      00059ace3e3e9a53      0             0        0       0       0   \n",
       "...                  ...    ...           ...      ...     ...     ...   \n",
       "153150  fff8f64043129fa2      0             0        0       0       0   \n",
       "153151  fff9d70fe0722906      0             0        0       0       0   \n",
       "153154  fffa8a11c4378854      0             0        0       0       0   \n",
       "153155  fffac2a094c8e0e2      1             0        1       0       1   \n",
       "153156  fffb5451268fb5ba      0             0        0       0       0   \n",
       "\n",
       "        identity_hate  \n",
       "5                   0  \n",
       "7                   0  \n",
       "11                  0  \n",
       "13                  0  \n",
       "14                  0  \n",
       "...               ...  \n",
       "153150              0  \n",
       "153151              0  \n",
       "153154              0  \n",
       "153155              0  \n",
       "153156              0  \n",
       "\n",
       "[63978 rows x 7 columns]"
      ]
     },
     "execution_count": 58,
     "metadata": {},
     "output_type": "execute_result"
    }
   ],
   "source": [
    "data_labels"
   ]
  },
  {
   "cell_type": "markdown",
   "id": "59d1f83f",
   "metadata": {},
   "source": [
    "`About 70000 rows have been dropped`. "
   ]
  },
  {
   "cell_type": "code",
   "execution_count": null,
   "id": "e08d43f2",
   "metadata": {},
   "outputs": [],
   "source": [
    "# drop_index = data_labels[\n",
    "#     (data_labels['toxic'] == 0) & \n",
    "#     (data_labels['severe_toxic'] == 0) & \n",
    "#     (data_labels['obscene'] == 0) & \n",
    "#     (data_labels['threat'] == 0) & \n",
    "#     (data_labels['insult'] == 0) & \n",
    "#     (data_labels['identity_hate'] == 0)\n",
    "#            ].index\n",
    "# data = data[~data.index.isin(drop_index)]\n",
    "# data_labels = data_labels[~data_labels.index.isin(drop_index)]"
   ]
  },
  {
   "cell_type": "code",
   "execution_count": null,
   "id": "16ca8da7",
   "metadata": {},
   "outputs": [],
   "source": [
    "# data"
   ]
  },
  {
   "cell_type": "code",
   "execution_count": null,
   "id": "5885f098",
   "metadata": {},
   "outputs": [],
   "source": [
    "# data_labels"
   ]
  },
  {
   "cell_type": "markdown",
   "id": "5a38b2aa",
   "metadata": {},
   "source": [
    "Since id column is used only for administrative purposees, we can drop it. "
   ]
  },
  {
   "cell_type": "code",
   "execution_count": 59,
   "id": "da3046ae",
   "metadata": {},
   "outputs": [
    {
     "name": "stderr",
     "output_type": "stream",
     "text": [
      "/home/ec2-user/anaconda3/envs/mxnet_p36/lib/python3.6/site-packages/pandas/core/frame.py:4174: SettingWithCopyWarning: \n",
      "A value is trying to be set on a copy of a slice from a DataFrame\n",
      "\n",
      "See the caveats in the documentation: https://pandas.pydata.org/pandas-docs/stable/user_guide/indexing.html#returning-a-view-versus-a-copy\n",
      "  errors=errors,\n"
     ]
    }
   ],
   "source": [
    "data.drop('id', axis=1, inplace=True)\n",
    "data_labels.drop('id', axis=1, inplace=True)"
   ]
  },
  {
   "cell_type": "code",
   "execution_count": 60,
   "id": "1bc050fd",
   "metadata": {},
   "outputs": [
    {
     "name": "stderr",
     "output_type": "stream",
     "text": [
      "/home/ec2-user/anaconda3/envs/mxnet_p36/lib/python3.6/site-packages/bs4/__init__.py:424: MarkupResemblesLocatorWarning: \"http://en.wikipedia.org/wiki/Half-Life_%28series%29\" looks like a URL. Beautiful Soup is not an HTTP client. You should probably use an HTTP client like requests to get the document behind the URL, and feed that document to Beautiful Soup.\n",
      "  MarkupResemblesLocatorWarning\n",
      "/home/ec2-user/anaconda3/envs/mxnet_p36/lib/python3.6/site-packages/bs4/__init__.py:424: MarkupResemblesLocatorWarning: \"http://es.wikipedia.org/wiki/Usuario_Discusi%C3%B3n:Sarah_W.\" looks like a URL. Beautiful Soup is not an HTTP client. You should probably use an HTTP client like requests to get the document behind the URL, and feed that document to Beautiful Soup.\n",
      "  MarkupResemblesLocatorWarning\n",
      "/home/ec2-user/anaconda3/envs/mxnet_p36/lib/python3.6/site-packages/bs4/__init__.py:424: MarkupResemblesLocatorWarning: \"http://en.wikipedia.org/wiki/Rayleigh%E2%80%93B%C3%A9nard_convection\" looks like a URL. Beautiful Soup is not an HTTP client. You should probably use an HTTP client like requests to get the document behind the URL, and feed that document to Beautiful Soup.\n",
      "  MarkupResemblesLocatorWarning\n",
      "/home/ec2-user/anaconda3/envs/mxnet_p36/lib/python3.6/site-packages/ipykernel/__main__.py:2: SettingWithCopyWarning: \n",
      "A value is trying to be set on a copy of a slice from a DataFrame.\n",
      "Try using .loc[row_indexer,col_indexer] = value instead\n",
      "\n",
      "See the caveats in the documentation: https://pandas.pydata.org/pandas-docs/stable/user_guide/indexing.html#returning-a-view-versus-a-copy\n",
      "  from ipykernel import kernelapp as app\n"
     ]
    }
   ],
   "source": [
    "# processing testing set comments. \n",
    "data['comment_text'] = data['comment_text'].apply(preprocess_text)"
   ]
  },
  {
   "cell_type": "code",
   "execution_count": 61,
   "id": "3917295f",
   "metadata": {},
   "outputs": [
    {
     "data": {
      "text/html": [
       "<div>\n",
       "<style scoped>\n",
       "    .dataframe tbody tr th:only-of-type {\n",
       "        vertical-align: middle;\n",
       "    }\n",
       "\n",
       "    .dataframe tbody tr th {\n",
       "        vertical-align: top;\n",
       "    }\n",
       "\n",
       "    .dataframe thead th {\n",
       "        text-align: right;\n",
       "    }\n",
       "</style>\n",
       "<table border=\"1\" class=\"dataframe\">\n",
       "  <thead>\n",
       "    <tr style=\"text-align: right;\">\n",
       "      <th></th>\n",
       "      <th>comment_text</th>\n",
       "    </tr>\n",
       "  </thead>\n",
       "  <tbody>\n",
       "    <tr>\n",
       "      <th>5</th>\n",
       "      <td>thank understand think high would revert witho...</td>\n",
       "    </tr>\n",
       "    <tr>\n",
       "      <th>7</th>\n",
       "      <td>dear god site horribl</td>\n",
       "    </tr>\n",
       "    <tr>\n",
       "      <th>11</th>\n",
       "      <td>somebodi invari tri add religion realli mean w...</td>\n",
       "    </tr>\n",
       "    <tr>\n",
       "      <th>13</th>\n",
       "      <td>say right type type institut need case three l...</td>\n",
       "    </tr>\n",
       "    <tr>\n",
       "      <th>14</th>\n",
       "      <td>ad new product list make sure relev ad new pro...</td>\n",
       "    </tr>\n",
       "    <tr>\n",
       "      <th>...</th>\n",
       "      <td>...</td>\n",
       "    </tr>\n",
       "    <tr>\n",
       "      <th>153150</th>\n",
       "      <td>jerom see never got around surpris look exampl...</td>\n",
       "    </tr>\n",
       "    <tr>\n",
       "      <th>153151</th>\n",
       "      <td>lucki bastard http wikimediafound org wiki pre...</td>\n",
       "    </tr>\n",
       "    <tr>\n",
       "      <th>153154</th>\n",
       "      <td>shame want speak gay romanian</td>\n",
       "    </tr>\n",
       "    <tr>\n",
       "      <th>153155</th>\n",
       "      <td>mel gibson nazi bitch make shitti movi much bu...</td>\n",
       "    </tr>\n",
       "    <tr>\n",
       "      <th>153156</th>\n",
       "      <td>unicorn lair discoveri suppos unicorn lair dis...</td>\n",
       "    </tr>\n",
       "  </tbody>\n",
       "</table>\n",
       "<p>63978 rows × 1 columns</p>\n",
       "</div>"
      ],
      "text/plain": [
       "                                             comment_text\n",
       "5       thank understand think high would revert witho...\n",
       "7                                   dear god site horribl\n",
       "11      somebodi invari tri add religion realli mean w...\n",
       "13      say right type type institut need case three l...\n",
       "14      ad new product list make sure relev ad new pro...\n",
       "...                                                   ...\n",
       "153150  jerom see never got around surpris look exampl...\n",
       "153151  lucki bastard http wikimediafound org wiki pre...\n",
       "153154                      shame want speak gay romanian\n",
       "153155  mel gibson nazi bitch make shitti movi much bu...\n",
       "153156  unicorn lair discoveri suppos unicorn lair dis...\n",
       "\n",
       "[63978 rows x 1 columns]"
      ]
     },
     "execution_count": 61,
     "metadata": {},
     "output_type": "execute_result"
    }
   ],
   "source": [
    "data"
   ]
  },
  {
   "cell_type": "code",
   "execution_count": 62,
   "id": "1206fc26",
   "metadata": {},
   "outputs": [],
   "source": [
    "data.reset_index(drop=True, inplace=True)\n",
    "data_labels.reset_index(drop=True, inplace=True)"
   ]
  },
  {
   "cell_type": "code",
   "execution_count": 63,
   "id": "282d0ccb",
   "metadata": {},
   "outputs": [],
   "source": [
    "data.to_csv('data/test-processed.csv')"
   ]
  },
  {
   "cell_type": "markdown",
   "id": "36117380",
   "metadata": {},
   "source": [
    "## 3. Modeling"
   ]
  },
  {
   "cell_type": "markdown",
   "id": "e1259c59",
   "metadata": {},
   "source": [
    "Since we have a huge set of data, and extracting text_features using TfidfVectorizer that will be fed to the model will require a huge amount of memory.\n",
    "\n",
    "We will use sklearn's `Pipline` to extract features from comments and train the model through piplining over each row, to save space. \n",
    "\n",
    "To do that we will define a function that will generate a pipline with the same vectorizer properties for differernt classifiers. "
   ]
  },
  {
   "cell_type": "code",
   "execution_count": 64,
   "id": "7c16804d",
   "metadata": {},
   "outputs": [],
   "source": [
    "def define_model(Classifier):\n",
    "    model = Pipeline([\n",
    "                    ('tfidf', TfidfVectorizer(\n",
    "                        strip_accents='unicode',     \n",
    "                        analyzer='word',            \n",
    "                        token_pattern=r'\\w{1,}',    \n",
    "                        ngram_range=(1, 3),         \n",
    "                        stop_words='english',\n",
    "                        sublinear_tf=True)\n",
    "                    ),\n",
    "                    ('clf', Classifier)\n",
    "                ])\n",
    "    return model\n",
    "    pass"
   ]
  },
  {
   "cell_type": "code",
   "execution_count": 65,
   "id": "c8b692d5",
   "metadata": {},
   "outputs": [],
   "source": [
    "X_test = data['comment_text']\n",
    "y_test = data_labels\n",
    "X_train = train['comment_text']\n",
    "y_train = train.drop('comment_text', axis=1)"
   ]
  },
  {
   "cell_type": "code",
   "execution_count": 68,
   "id": "3ec712f7",
   "metadata": {},
   "outputs": [],
   "source": [
    "def train_and_test(x_train, y_train, x_test, y_test, model, labels):\n",
    "#     predecition_df = pd.DataFrame()\n",
    "#     for category in labels:\n",
    "#         print('... Processing {}'.format(category))\n",
    "#         # train the model using X_dtm & y\n",
    "#         model.fit(x_train, y_train[category])\n",
    "#         # compute the testing accuracy\n",
    "#         prediction = model.predict(x_test)\n",
    "# #         print('Test accuracy is {}'.format(accuracy_score(y_test[category], prediction)))\n",
    "# #         print('Test accuracy is {}'.format(hamming_loss(y_test[category], prediction)))\n",
    "#         predecition_df[category] = prediction\n",
    "    model.fit(x_train, y_train)\n",
    "    prediction = model.predict(x_test)\n",
    "    return prediction\n",
    "    pass\n",
    "\n"
   ]
  },
  {
   "cell_type": "markdown",
   "id": "b399e4c6",
   "metadata": {},
   "source": [
    "#### We will use `OneVsRestClassifier` for each of the following models\n",
    "\n",
    "\n",
    "### MultinomialNB"
   ]
  },
  {
   "cell_type": "code",
   "execution_count": 69,
   "id": "e9e5010f",
   "metadata": {},
   "outputs": [],
   "source": [
    "model = define_model(OneVsRestClassifier(MultinomialNB(\n",
    "                    fit_prior=True, class_prior=None)))\n",
    "MNB_pred = train_and_test(X_train, y_train, X_test, y_test, model, labels)"
   ]
  },
  {
   "cell_type": "code",
   "execution_count": 70,
   "id": "f6d46c19",
   "metadata": {},
   "outputs": [
    {
     "data": {
      "text/plain": [
       "array([[[57876,    12],\n",
       "        [ 5634,   456]],\n",
       "\n",
       "       [[63611,     0],\n",
       "        [  367,     0]],\n",
       "\n",
       "       [[60285,     2],\n",
       "        [ 3544,   147]],\n",
       "\n",
       "       [[63767,     0],\n",
       "        [  211,     0]],\n",
       "\n",
       "       [[60551,     0],\n",
       "        [ 3412,    15]],\n",
       "\n",
       "       [[63266,     0],\n",
       "        [  712,     0]]])"
      ]
     },
     "execution_count": 70,
     "metadata": {},
     "output_type": "execute_result"
    }
   ],
   "source": [
    "confusion_matrix = multilabel_confusion_matrix(y_test, MNB_pred)\n",
    "confusion_matrix"
   ]
  },
  {
   "cell_type": "code",
   "execution_count": 71,
   "id": "16ffc436",
   "metadata": {},
   "outputs": [
    {
     "name": "stdout",
     "output_type": "stream",
     "text": [
      "               precision    recall  f1-score   support\n",
      "\n",
      "        toxic       0.97      0.07      0.14      6090\n",
      " severe_toxic       0.00      0.00      0.00       367\n",
      "      obscene       0.99      0.04      0.08      3691\n",
      "       threat       0.00      0.00      0.00       211\n",
      "       insult       1.00      0.00      0.01      3427\n",
      "identity_hate       0.00      0.00      0.00       712\n",
      "\n",
      "    micro avg       0.98      0.04      0.08     14498\n",
      "    macro avg       0.49      0.02      0.04     14498\n",
      " weighted avg       0.90      0.04      0.08     14498\n",
      "  samples avg       0.01      0.00      0.00     14498\n",
      "\n"
     ]
    },
    {
     "name": "stderr",
     "output_type": "stream",
     "text": [
      "/home/ec2-user/anaconda3/envs/mxnet_p36/lib/python3.6/site-packages/sklearn/metrics/_classification.py:1245: UndefinedMetricWarning: Precision and F-score are ill-defined and being set to 0.0 in labels with no predicted samples. Use `zero_division` parameter to control this behavior.\n",
      "  _warn_prf(average, modifier, msg_start, len(result))\n",
      "/home/ec2-user/anaconda3/envs/mxnet_p36/lib/python3.6/site-packages/sklearn/metrics/_classification.py:1245: UndefinedMetricWarning: Precision and F-score are ill-defined and being set to 0.0 in samples with no predicted labels. Use `zero_division` parameter to control this behavior.\n",
      "  _warn_prf(average, modifier, msg_start, len(result))\n",
      "/home/ec2-user/anaconda3/envs/mxnet_p36/lib/python3.6/site-packages/sklearn/metrics/_classification.py:1245: UndefinedMetricWarning: Recall and F-score are ill-defined and being set to 0.0 in samples with no true labels. Use `zero_division` parameter to control this behavior.\n",
      "  _warn_prf(average, modifier, msg_start, len(result))\n"
     ]
    }
   ],
   "source": [
    "print(classification_report(\n",
    "    y_test,\n",
    "    MNB_pred,\n",
    "    output_dict=False,\n",
    "    target_names=labels\n",
    "))"
   ]
  },
  {
   "cell_type": "markdown",
   "id": "0b693e24",
   "metadata": {},
   "source": [
    "we can see from the confusion_matrix that MultinomialNB did not perform well in predicting severe_toxic, threat, and identity_hate. "
   ]
  },
  {
   "cell_type": "markdown",
   "id": "a3ef58c6",
   "metadata": {},
   "source": [
    "### LogisticRegression"
   ]
  },
  {
   "cell_type": "code",
   "execution_count": 72,
   "id": "4d007867",
   "metadata": {},
   "outputs": [],
   "source": [
    "model = define_model(OneVsRestClassifier(LogisticRegression(C = 10, penalty='l2', solver = 'liblinear', random_state=100)))\n",
    "LR_pred = train_and_test(X_train, y_train, X_test, y_test, model, labels)"
   ]
  },
  {
   "cell_type": "code",
   "execution_count": 73,
   "id": "e0efb235",
   "metadata": {},
   "outputs": [
    {
     "data": {
      "text/plain": [
       "array([[[53830,  4058],\n",
       "        [ 1024,  5066]],\n",
       "\n",
       "       [[63111,   500],\n",
       "        [  180,   187]],\n",
       "\n",
       "       [[58523,  1764],\n",
       "        [  832,  2859]],\n",
       "\n",
       "       [[63654,   113],\n",
       "        [  134,    77]],\n",
       "\n",
       "       [[58770,  1781],\n",
       "        [  963,  2464]],\n",
       "\n",
       "       [[62957,   309],\n",
       "        [  335,   377]]])"
      ]
     },
     "execution_count": 73,
     "metadata": {},
     "output_type": "execute_result"
    }
   ],
   "source": [
    "confusion_matrix = multilabel_confusion_matrix(y_test, LR_pred)\n",
    "confusion_matrix"
   ]
  },
  {
   "cell_type": "code",
   "execution_count": 74,
   "id": "2d32a9fb",
   "metadata": {},
   "outputs": [
    {
     "name": "stdout",
     "output_type": "stream",
     "text": [
      "               precision    recall  f1-score   support\n",
      "\n",
      "        toxic       0.56      0.83      0.67      6090\n",
      " severe_toxic       0.27      0.51      0.35       367\n",
      "      obscene       0.62      0.77      0.69      3691\n",
      "       threat       0.41      0.36      0.38       211\n",
      "       insult       0.58      0.72      0.64      3427\n",
      "identity_hate       0.55      0.53      0.54       712\n",
      "\n",
      "    micro avg       0.56      0.76      0.65     14498\n",
      "    macro avg       0.50      0.62      0.55     14498\n",
      " weighted avg       0.57      0.76      0.65     14498\n",
      "  samples avg       0.07      0.07      0.07     14498\n",
      "\n"
     ]
    },
    {
     "name": "stderr",
     "output_type": "stream",
     "text": [
      "/home/ec2-user/anaconda3/envs/mxnet_p36/lib/python3.6/site-packages/sklearn/metrics/_classification.py:1245: UndefinedMetricWarning: Precision and F-score are ill-defined and being set to 0.0 in samples with no predicted labels. Use `zero_division` parameter to control this behavior.\n",
      "  _warn_prf(average, modifier, msg_start, len(result))\n",
      "/home/ec2-user/anaconda3/envs/mxnet_p36/lib/python3.6/site-packages/sklearn/metrics/_classification.py:1245: UndefinedMetricWarning: Recall and F-score are ill-defined and being set to 0.0 in samples with no true labels. Use `zero_division` parameter to control this behavior.\n",
      "  _warn_prf(average, modifier, msg_start, len(result))\n"
     ]
    }
   ],
   "source": [
    "print(classification_report(\n",
    "    y_test,\n",
    "    LR_pred,\n",
    "    output_dict=False,\n",
    "    target_names=labels\n",
    "))"
   ]
  },
  {
   "cell_type": "markdown",
   "id": "3941da13",
   "metadata": {},
   "source": [
    "### LinearSVC"
   ]
  },
  {
   "cell_type": "code",
   "execution_count": 75,
   "id": "2f2a57a7",
   "metadata": {},
   "outputs": [],
   "source": [
    "model = define_model(OneVsRestClassifier(LinearSVC(), n_jobs=1))\n",
    "OSVC_pred = train_and_test(X_train, y_train, X_test, y_test, model, labels)"
   ]
  },
  {
   "cell_type": "code",
   "execution_count": 76,
   "id": "5330ad56",
   "metadata": {},
   "outputs": [
    {
     "data": {
      "text/plain": [
       "array([[[53633,  4255],\n",
       "        [  905,  5185]],\n",
       "\n",
       "       [[63327,   284],\n",
       "        [  227,   140]],\n",
       "\n",
       "       [[58397,  1890],\n",
       "        [  848,  2843]],\n",
       "\n",
       "       [[63718,    49],\n",
       "        [  173,    38]],\n",
       "\n",
       "       [[58816,  1735],\n",
       "        [ 1005,  2422]],\n",
       "\n",
       "       [[63109,   157],\n",
       "        [  412,   300]]])"
      ]
     },
     "execution_count": 76,
     "metadata": {},
     "output_type": "execute_result"
    }
   ],
   "source": [
    "confusion_matrix = multilabel_confusion_matrix(y_test, OSVC_pred)\n",
    "confusion_matrix"
   ]
  },
  {
   "cell_type": "code",
   "execution_count": 79,
   "id": "d09470b2",
   "metadata": {},
   "outputs": [
    {
     "name": "stdout",
     "output_type": "stream",
     "text": [
      "               precision    recall  f1-score   support\n",
      "\n",
      "        toxic       0.55      0.85      0.67      6090\n",
      " severe_toxic       0.33      0.38      0.35       367\n",
      "      obscene       0.60      0.77      0.67      3691\n",
      "       threat       0.44      0.18      0.26       211\n",
      "       insult       0.58      0.71      0.64      3427\n",
      "identity_hate       0.66      0.42      0.51       712\n",
      "\n",
      "    micro avg       0.57      0.75      0.65     14498\n",
      "    macro avg       0.53      0.55      0.52     14498\n",
      " weighted avg       0.57      0.75      0.64     14498\n",
      "  samples avg       0.07      0.07      0.07     14498\n",
      "\n"
     ]
    },
    {
     "name": "stderr",
     "output_type": "stream",
     "text": [
      "/home/ec2-user/anaconda3/envs/mxnet_p36/lib/python3.6/site-packages/sklearn/metrics/_classification.py:1245: UndefinedMetricWarning: Precision and F-score are ill-defined and being set to 0.0 in samples with no predicted labels. Use `zero_division` parameter to control this behavior.\n",
      "  _warn_prf(average, modifier, msg_start, len(result))\n",
      "/home/ec2-user/anaconda3/envs/mxnet_p36/lib/python3.6/site-packages/sklearn/metrics/_classification.py:1245: UndefinedMetricWarning: Recall and F-score are ill-defined and being set to 0.0 in samples with no true labels. Use `zero_division` parameter to control this behavior.\n",
      "  _warn_prf(average, modifier, msg_start, len(result))\n"
     ]
    }
   ],
   "source": [
    "print(classification_report(\n",
    "    y_test,\n",
    "    OSVC_pred,\n",
    "    output_dict=False,\n",
    "    target_names=labels\n",
    "))"
   ]
  },
  {
   "cell_type": "markdown",
   "id": "fd33695f",
   "metadata": {},
   "source": [
    "#### XGBoost"
   ]
  },
  {
   "cell_type": "code",
   "execution_count": 78,
   "id": "e7a18ed0",
   "metadata": {},
   "outputs": [
    {
     "name": "stderr",
     "output_type": "stream",
     "text": [
      "/home/ec2-user/anaconda3/envs/mxnet_p36/lib/python3.6/site-packages/xgboost/sklearn.py:1224: UserWarning: The use of label encoder in XGBClassifier is deprecated and will be removed in a future release. To remove this warning, do the following: 1) Pass option use_label_encoder=False when constructing XGBClassifier object; and 2) Encode your labels (y) as integers starting with 0, i.e. 0, 1, 2, ..., [num_class - 1].\n",
      "  warnings.warn(label_encoder_deprecation_msg, UserWarning)\n"
     ]
    },
    {
     "name": "stdout",
     "output_type": "stream",
     "text": [
      "[00:04:02] WARNING: ../src/learner.cc:1115: Starting in XGBoost 1.3.0, the default evaluation metric used with the objective 'binary:logistic' was changed from 'error' to 'logloss'. Explicitly set eval_metric if you'd like to restore the old behavior.\n",
      "[00:07:35] WARNING: ../src/learner.cc:1115: Starting in XGBoost 1.3.0, the default evaluation metric used with the objective 'binary:logistic' was changed from 'error' to 'logloss'. Explicitly set eval_metric if you'd like to restore the old behavior.\n",
      "[00:10:27] WARNING: ../src/learner.cc:1115: Starting in XGBoost 1.3.0, the default evaluation metric used with the objective 'binary:logistic' was changed from 'error' to 'logloss'. Explicitly set eval_metric if you'd like to restore the old behavior.\n",
      "[00:13:51] WARNING: ../src/learner.cc:1115: Starting in XGBoost 1.3.0, the default evaluation metric used with the objective 'binary:logistic' was changed from 'error' to 'logloss'. Explicitly set eval_metric if you'd like to restore the old behavior.\n",
      "[00:16:50] WARNING: ../src/learner.cc:1115: Starting in XGBoost 1.3.0, the default evaluation metric used with the objective 'binary:logistic' was changed from 'error' to 'logloss'. Explicitly set eval_metric if you'd like to restore the old behavior.\n",
      "[00:20:21] WARNING: ../src/learner.cc:1115: Starting in XGBoost 1.3.0, the default evaluation metric used with the objective 'binary:logistic' was changed from 'error' to 'logloss'. Explicitly set eval_metric if you'd like to restore the old behavior.\n",
      "               precision    recall  f1-score   support\n",
      "\n",
      "        toxic       0.54      0.78      0.64      6090\n",
      " severe_toxic       0.33      0.47      0.39       367\n",
      "      obscene       0.58      0.74      0.65      3691\n",
      "       threat       0.30      0.39      0.34       211\n",
      "       insult       0.58      0.64      0.61      3427\n",
      "identity_hate       0.54      0.42      0.48       712\n",
      "\n",
      "    micro avg       0.55      0.70      0.62     14498\n",
      "    macro avg       0.48      0.57      0.52     14498\n",
      " weighted avg       0.55      0.70      0.62     14498\n",
      "  samples avg       0.07      0.07      0.06     14498\n",
      "\n"
     ]
    },
    {
     "name": "stderr",
     "output_type": "stream",
     "text": [
      "/home/ec2-user/anaconda3/envs/mxnet_p36/lib/python3.6/site-packages/sklearn/metrics/_classification.py:1245: UndefinedMetricWarning: Precision and F-score are ill-defined and being set to 0.0 in samples with no predicted labels. Use `zero_division` parameter to control this behavior.\n",
      "  _warn_prf(average, modifier, msg_start, len(result))\n",
      "/home/ec2-user/anaconda3/envs/mxnet_p36/lib/python3.6/site-packages/sklearn/metrics/_classification.py:1245: UndefinedMetricWarning: Recall and F-score are ill-defined and being set to 0.0 in samples with no true labels. Use `zero_division` parameter to control this behavior.\n",
      "  _warn_prf(average, modifier, msg_start, len(result))\n"
     ]
    }
   ],
   "source": [
    "model = define_model(OneVsRestClassifier(xgb.XGBClassifier()))\n",
    "xgb_pred = train_and_test(X_train, y_train, X_test, y_test, model, labels)\n",
    "print(classification_report(\n",
    "    y_test,\n",
    "    xgb_pred,\n",
    "    output_dict=False,\n",
    "    target_names=labels\n",
    "))"
   ]
  },
  {
   "cell_type": "markdown",
   "id": "1dc54842",
   "metadata": {},
   "source": [
    "## 4. Result Evaluation"
   ]
  },
  {
   "cell_type": "markdown",
   "id": "47e0100d",
   "metadata": {},
   "source": [
    "### LinearSVC (all data)\n",
    "    precision    recall  f1-score   support\n",
    "\n",
    "    toxic       0.55      0.84      0.67      6090\n",
    "    severe_toxic       0.34      0.41      0.37       367\n",
    "    obscene       0.60      0.77      0.68      3691\n",
    "    threat       0.51      0.27      0.35       211\n",
    "    insult       0.59      0.70      0.64      3427\n",
    "    identity_hate       0.65      0.41      0.50       712\n",
    "\n",
    "    micro avg       0.57      0.75      0.65     14498\n",
    "    macro avg       0.54      0.56      0.53     14498\n",
    "    weighted avg       0.57      0.75      0.64     14498\n",
    "    samples avg       0.07      0.07      0.07     14498"
   ]
  },
  {
   "cell_type": "code",
   "execution_count": null,
   "id": "27f4cde3",
   "metadata": {},
   "outputs": [],
   "source": []
  },
  {
   "cell_type": "code",
   "execution_count": null,
   "id": "6c54ad5b",
   "metadata": {},
   "outputs": [],
   "source": []
  },
  {
   "cell_type": "code",
   "execution_count": null,
   "id": "5dc6cd40",
   "metadata": {},
   "outputs": [],
   "source": []
  },
  {
   "cell_type": "code",
   "execution_count": null,
   "id": "4e67ac3b",
   "metadata": {},
   "outputs": [],
   "source": []
  },
  {
   "cell_type": "code",
   "execution_count": null,
   "id": "cb85b544",
   "metadata": {},
   "outputs": [],
   "source": []
  }
 ],
 "metadata": {
  "interpreter": {
   "hash": "c523a99d054115d555410f3112007b2c34232efc9bbc5ffe25de22e8bb4f9dd5"
  },
  "kernelspec": {
   "display_name": "conda_mxnet_p36",
   "language": "python",
   "name": "conda_mxnet_p36"
  },
  "language_info": {
   "codemirror_mode": {
    "name": "ipython",
    "version": 3
   },
   "file_extension": ".py",
   "mimetype": "text/x-python",
   "name": "python",
   "nbconvert_exporter": "python",
   "pygments_lexer": "ipython3",
   "version": "3.6.13"
  }
 },
 "nbformat": 4,
 "nbformat_minor": 5
}
