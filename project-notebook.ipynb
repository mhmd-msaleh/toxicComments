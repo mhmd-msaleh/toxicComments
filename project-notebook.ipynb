{
 "cells": [
  {
   "cell_type": "markdown",
   "id": "d2e3c20a",
   "metadata": {},
   "source": [
    "## Importing Libraries"
   ]
  },
  {
   "cell_type": "code",
   "execution_count": 1,
   "id": "5114c696",
   "metadata": {},
   "outputs": [
    {
     "name": "stdout",
     "output_type": "stream",
     "text": [
      "Collecting neattext\n",
      "  Downloading neattext-0.1.2-py3-none-any.whl (114 kB)\n",
      "     |████████████████████████████████| 114 kB 26.1 MB/s            \n",
      "\u001b[?25hInstalling collected packages: neattext\n",
      "Successfully installed neattext-0.1.2\n"
     ]
    }
   ],
   "source": [
    "!pip install neattext"
   ]
  },
  {
   "cell_type": "code",
   "execution_count": 2,
   "id": "db9b21d2",
   "metadata": {},
   "outputs": [
    {
     "name": "stdout",
     "output_type": "stream",
     "text": [
      "Collecting scikit-multilearn\n",
      "  Downloading scikit_multilearn-0.2.0-py3-none-any.whl (89 kB)\n",
      "     |████████████████████████████████| 89 kB 1.2 MB/s             \n",
      "\u001b[?25hInstalling collected packages: scikit-multilearn\n",
      "Successfully installed scikit-multilearn-0.2.0\n"
     ]
    }
   ],
   "source": [
    "!pip install scikit-multilearn "
   ]
  },
  {
   "cell_type": "code",
   "execution_count": 3,
   "id": "9cb1bd61",
   "metadata": {},
   "outputs": [
    {
     "name": "stdout",
     "output_type": "stream",
     "text": [
      "Collecting xgboost\n",
      "  Downloading xgboost-1.5.2-py3-none-manylinux2014_x86_64.whl (173.6 MB)\n",
      "     |████████████████████████████████| 173.6 MB 6.5 kB/s              \n",
      "\u001b[?25hRequirement already satisfied: scipy in /home/ec2-user/anaconda3/envs/mxnet_p36/lib/python3.6/site-packages (from xgboost) (1.5.3)\n",
      "Requirement already satisfied: numpy in /home/ec2-user/anaconda3/envs/mxnet_p36/lib/python3.6/site-packages (from xgboost) (1.19.5)\n",
      "Installing collected packages: xgboost\n",
      "Successfully installed xgboost-1.5.2\n"
     ]
    }
   ],
   "source": [
    "!pip install xgboost"
   ]
  },
  {
   "cell_type": "code",
   "execution_count": 4,
   "id": "89951913",
   "metadata": {},
   "outputs": [],
   "source": [
    "import pandas as pd \n",
    "import numpy as np \n",
    "import re\n",
    "import string"
   ]
  },
  {
   "cell_type": "code",
   "execution_count": 5,
   "id": "5ea79d1f",
   "metadata": {},
   "outputs": [],
   "source": [
    "# text processing libraries\n",
    "import re\n",
    "import string\n",
    "from nltk.corpus import stopwords\n",
    "# from nltk.stem.wordnet import WordNetLemmatizer\n",
    "from sklearn.feature_extraction.text import TfidfVectorizer\n",
    "\n"
   ]
  },
  {
   "cell_type": "code",
   "execution_count": 6,
   "id": "4eda9954",
   "metadata": {},
   "outputs": [],
   "source": [
    "# plot libraries\n",
    "import matplotlib.pyplot as plt\n",
    "import seaborn as sns \n",
    "%matplotlib inline \n",
    "sns.set(color_codes=True)"
   ]
  },
  {
   "cell_type": "code",
   "execution_count": 126,
   "id": "7183e991",
   "metadata": {},
   "outputs": [],
   "source": [
    "# model related libraries\n",
    "from sklearn.linear_model import LogisticRegression\n",
    "from sklearn.multiclass import OneVsRestClassifier\n",
    "from sklearn.model_selection import GridSearchCV\n",
    "from sklearn.svm import LinearSVC\n",
    "from sklearn.naive_bayes import MultinomialNB\n",
    "from sklearn.pipeline import Pipeline\n",
    "from sklearn.tree import DecisionTreeClassifier\n",
    "\n",
    "from skmultilearn.adapt import MLkNN\n",
    "# from sklearn.model_selection import train_test_split"
   ]
  },
  {
   "cell_type": "code",
   "execution_count": 8,
   "id": "dc423951",
   "metadata": {},
   "outputs": [],
   "source": [
    "from sklearn.ensemble import GradientBoostingClassifier\n",
    "# import xgboost as xgb"
   ]
  },
  {
   "cell_type": "code",
   "execution_count": 51,
   "id": "6caca32d",
   "metadata": {},
   "outputs": [],
   "source": [
    "# metrics\n",
    "from sklearn.metrics import classification_report, multilabel_confusion_matrix, recall_score, roc_auc_score\n",
    "from sklearn.metrics import accuracy_score, hamming_loss"
   ]
  },
  {
   "cell_type": "code",
   "execution_count": 10,
   "id": "57372688",
   "metadata": {},
   "outputs": [],
   "source": [
    "# others\n",
    "import warnings\n",
    "warnings.simplefilter(action='ignore', category=FutureWarning)"
   ]
  },
  {
   "cell_type": "markdown",
   "id": "0eca4fe5",
   "metadata": {},
   "source": [
    "## 1. Data Exploration"
   ]
  },
  {
   "cell_type": "markdown",
   "id": "2cc2d29b",
   "metadata": {},
   "source": [
    "First let's look at how the data is organized. "
   ]
  },
  {
   "cell_type": "code",
   "execution_count": 11,
   "id": "1c14a9e1",
   "metadata": {},
   "outputs": [],
   "source": [
    "train = pd.read_csv('data/train.csv')\n",
    "test = pd.read_csv('data/test.csv')\n",
    "test_labels = pd.read_csv('data/test_labels.csv')"
   ]
  },
  {
   "cell_type": "markdown",
   "id": "38014561",
   "metadata": {},
   "source": [
    "#### Then lets make some visualization about the dataset for furhter understanding.\n",
    "\n",
    "Strating from a simple bar chart that shows the number of comments for each category. "
   ]
  },
  {
   "cell_type": "code",
   "execution_count": 12,
   "id": "0d589e2d",
   "metadata": {},
   "outputs": [
    {
     "data": {
      "text/plain": [
       "Text(0.5, 0, '# of categories')"
      ]
     },
     "execution_count": 12,
     "metadata": {},
     "output_type": "execute_result"
    },
    {
     "data": {
      "image/png": "[encoded data removed]",
      "text/plain": [
       "<Figure size 576x360 with 1 Axes>"
      ]
     },
     "metadata": {},
     "output_type": "display_data"
    }
   ],
   "source": [
    "labels = ['toxic', 'severe_toxic', 'obscene', 'threat', \n",
    "      'insult', 'identity_hate']\n",
    "labels_data = train[labels]\n",
    "label_count = labels_data.sum()\n",
    "plt.figure(figsize=(8,5))\n",
    "ax = sns.barplot(label_count.index, label_count.values)\n",
    "plt.title(\"# of comments per category\")\n",
    "plt.ylabel('# of Occurrences', fontsize=12)\n",
    "plt.xlabel('# of categories', fontsize=12)"
   ]
  },
  {
   "cell_type": "code",
   "execution_count": 13,
   "id": "2020ef47",
   "metadata": {},
   "outputs": [],
   "source": [
    "# test_data = pd.read_csv('data/test.csv')\n",
    "# test_labels = pd.read_csv('data/test_labels.csv')"
   ]
  },
  {
   "cell_type": "markdown",
   "id": "1c744930",
   "metadata": {},
   "source": [
    "Since the categories are not mutally exclusive, let's see how many categories each comment coantains. "
   ]
  },
  {
   "cell_type": "code",
   "execution_count": 14,
   "id": "480eb5e2",
   "metadata": {},
   "outputs": [
    {
     "data": {
      "text/plain": [
       "Text(0.5, 0, '# of categories')"
      ]
     },
     "execution_count": 14,
     "metadata": {},
     "output_type": "execute_result"
    },
    {
     "data": {
      "image/png": "[encoded data removed]",
      "text/plain": [
       "<Figure size 576x360 with 1 Axes>"
      ]
     },
     "metadata": {},
     "output_type": "display_data"
    }
   ],
   "source": [
    "rowsums = train.iloc[:,2:].sum(axis=1)\n",
    "x=rowsums.value_counts()#plot\n",
    "plt.figure(figsize=(8,5))\n",
    "ax = sns.barplot(x.index, x.values)\n",
    "plt.ylabel('# of Occurrences', fontsize=12)\n",
    "plt.xlabel('# of categories', fontsize=12)"
   ]
  },
  {
   "cell_type": "markdown",
   "id": "75ba965b",
   "metadata": {},
   "source": [
    "We can see that the dataset is biased towards non-categoized comments. \n",
    "\n"
   ]
  },
  {
   "cell_type": "code",
   "execution_count": 15,
   "id": "5a67e750",
   "metadata": {},
   "outputs": [
    {
     "data": {
      "image/png": "[encoded data removed]",
      "text/plain": [
       "<Figure size 576x360 with 1 Axes>"
      ]
     },
     "metadata": {},
     "output_type": "display_data"
    }
   ],
   "source": [
    "plt.figure(figsize=(8,5))\n",
    "g = sns.countplot(train['toxic'])\n",
    "plt.show()"
   ]
  },
  {
   "cell_type": "code",
   "execution_count": 183,
   "id": "1efcf0a8",
   "metadata": {},
   "outputs": [],
   "source": [
    "def plot_data(train): \n",
    "    barWidth = 0.35\n",
    "    plt.figure(figsize=(9,7))\n",
    "    bars1 = [sum(train['toxic'] == 1), sum(train['severe_toxic'] == 1), sum(train['obscene'] == 1), sum(train['threat'] == 1),\n",
    "             sum(train['insult'] == 1), sum(train['identity_hate'] == 1)]\n",
    "    bars2 = [sum(train['toxic'] == 0), sum(train['severe_toxic'] == 0), sum(train['obscene'] == 0), sum(train['threat'] == 0),\n",
    "             sum(train['insult'] == 0), sum(train['identity_hate'] == 0)]\n",
    "\n",
    "    r1 = np.arange(len(bars1))\n",
    "    r2 = [x + barWidth for x in r1]\n",
    "\n",
    "    plt.bar(r1, bars1, color='steelblue', width=barWidth, label='classified')\n",
    "    plt.bar(r2, bars2, color='lightsteelblue', width=barWidth, label='not_classified')\n",
    "\n",
    "    plt.xlabel('categories')\n",
    "    plt.ylabel('# of comments')\n",
    "    plt.xticks([r + barWidth for r in range(len(bars1))], labels)\n",
    "\n",
    "    plt.legend()\n",
    "    plt.show()\n",
    "    pass "
   ]
  },
  {
   "cell_type": "code",
   "execution_count": 79,
   "id": "238d5acf",
   "metadata": {},
   "outputs": [
    {
     "data": {
      "image/png": "[encoded data removed]",
      "text/plain": [
       "<Figure size 576x360 with 1 Axes>"
      ]
     },
     "metadata": {},
     "output_type": "display_data"
    }
   ],
   "source": [
    "plot_data(train)"
   ]
  },
  {
   "cell_type": "markdown",
   "id": "0460a34c",
   "metadata": {},
   "source": [
    "The plot above shows that there is an imbalance dataset. So, to address this issue we will need to drop data that does not fall into any category"
   ]
  },
  {
   "cell_type": "code",
   "execution_count": 18,
   "id": "6f749c0f",
   "metadata": {},
   "outputs": [
    {
     "data": {
      "text/html": [
       "<div>\n",
       "<style scoped>\n",
       "    .dataframe tbody tr th:only-of-type {\n",
       "        vertical-align: middle;\n",
       "    }\n",
       "\n",
       "    .dataframe tbody tr th {\n",
       "        vertical-align: top;\n",
       "    }\n",
       "\n",
       "    .dataframe thead th {\n",
       "        text-align: right;\n",
       "    }\n",
       "</style>\n",
       "<table border=\"1\" class=\"dataframe\">\n",
       "  <thead>\n",
       "    <tr style=\"text-align: right;\">\n",
       "      <th></th>\n",
       "      <th>id</th>\n",
       "      <th>comment_text</th>\n",
       "      <th>toxic</th>\n",
       "      <th>severe_toxic</th>\n",
       "      <th>obscene</th>\n",
       "      <th>threat</th>\n",
       "      <th>insult</th>\n",
       "      <th>identity_hate</th>\n",
       "    </tr>\n",
       "  </thead>\n",
       "  <tbody>\n",
       "    <tr>\n",
       "      <th>0</th>\n",
       "      <td>0000997932d777bf</td>\n",
       "      <td>Explanation\\nWhy the edits made under my usern...</td>\n",
       "      <td>0</td>\n",
       "      <td>0</td>\n",
       "      <td>0</td>\n",
       "      <td>0</td>\n",
       "      <td>0</td>\n",
       "      <td>0</td>\n",
       "    </tr>\n",
       "    <tr>\n",
       "      <th>1</th>\n",
       "      <td>000103f0d9cfb60f</td>\n",
       "      <td>D'aww! He matches this background colour I'm s...</td>\n",
       "      <td>0</td>\n",
       "      <td>0</td>\n",
       "      <td>0</td>\n",
       "      <td>0</td>\n",
       "      <td>0</td>\n",
       "      <td>0</td>\n",
       "    </tr>\n",
       "    <tr>\n",
       "      <th>2</th>\n",
       "      <td>000113f07ec002fd</td>\n",
       "      <td>Hey man, I'm really not trying to edit war. It...</td>\n",
       "      <td>0</td>\n",
       "      <td>0</td>\n",
       "      <td>0</td>\n",
       "      <td>0</td>\n",
       "      <td>0</td>\n",
       "      <td>0</td>\n",
       "    </tr>\n",
       "    <tr>\n",
       "      <th>3</th>\n",
       "      <td>0001b41b1c6bb37e</td>\n",
       "      <td>\"\\nMore\\nI can't make any real suggestions on ...</td>\n",
       "      <td>0</td>\n",
       "      <td>0</td>\n",
       "      <td>0</td>\n",
       "      <td>0</td>\n",
       "      <td>0</td>\n",
       "      <td>0</td>\n",
       "    </tr>\n",
       "    <tr>\n",
       "      <th>4</th>\n",
       "      <td>0001d958c54c6e35</td>\n",
       "      <td>You, sir, are my hero. Any chance you remember...</td>\n",
       "      <td>0</td>\n",
       "      <td>0</td>\n",
       "      <td>0</td>\n",
       "      <td>0</td>\n",
       "      <td>0</td>\n",
       "      <td>0</td>\n",
       "    </tr>\n",
       "    <tr>\n",
       "      <th>...</th>\n",
       "      <td>...</td>\n",
       "      <td>...</td>\n",
       "      <td>...</td>\n",
       "      <td>...</td>\n",
       "      <td>...</td>\n",
       "      <td>...</td>\n",
       "      <td>...</td>\n",
       "      <td>...</td>\n",
       "    </tr>\n",
       "    <tr>\n",
       "      <th>159566</th>\n",
       "      <td>ffe987279560d7ff</td>\n",
       "      <td>\":::::And for the second time of asking, when ...</td>\n",
       "      <td>0</td>\n",
       "      <td>0</td>\n",
       "      <td>0</td>\n",
       "      <td>0</td>\n",
       "      <td>0</td>\n",
       "      <td>0</td>\n",
       "    </tr>\n",
       "    <tr>\n",
       "      <th>159567</th>\n",
       "      <td>ffea4adeee384e90</td>\n",
       "      <td>You should be ashamed of yourself \\n\\nThat is ...</td>\n",
       "      <td>0</td>\n",
       "      <td>0</td>\n",
       "      <td>0</td>\n",
       "      <td>0</td>\n",
       "      <td>0</td>\n",
       "      <td>0</td>\n",
       "    </tr>\n",
       "    <tr>\n",
       "      <th>159568</th>\n",
       "      <td>ffee36eab5c267c9</td>\n",
       "      <td>Spitzer \\n\\nUmm, theres no actual article for ...</td>\n",
       "      <td>0</td>\n",
       "      <td>0</td>\n",
       "      <td>0</td>\n",
       "      <td>0</td>\n",
       "      <td>0</td>\n",
       "      <td>0</td>\n",
       "    </tr>\n",
       "    <tr>\n",
       "      <th>159569</th>\n",
       "      <td>fff125370e4aaaf3</td>\n",
       "      <td>And it looks like it was actually you who put ...</td>\n",
       "      <td>0</td>\n",
       "      <td>0</td>\n",
       "      <td>0</td>\n",
       "      <td>0</td>\n",
       "      <td>0</td>\n",
       "      <td>0</td>\n",
       "    </tr>\n",
       "    <tr>\n",
       "      <th>159570</th>\n",
       "      <td>fff46fc426af1f9a</td>\n",
       "      <td>\"\\nAnd ... I really don't think you understand...</td>\n",
       "      <td>0</td>\n",
       "      <td>0</td>\n",
       "      <td>0</td>\n",
       "      <td>0</td>\n",
       "      <td>0</td>\n",
       "      <td>0</td>\n",
       "    </tr>\n",
       "  </tbody>\n",
       "</table>\n",
       "<p>159571 rows × 8 columns</p>\n",
       "</div>"
      ],
      "text/plain": [
       "                      id                                       comment_text  \\\n",
       "0       0000997932d777bf  Explanation\\nWhy the edits made under my usern...   \n",
       "1       000103f0d9cfb60f  D'aww! He matches this background colour I'm s...   \n",
       "2       000113f07ec002fd  Hey man, I'm really not trying to edit war. It...   \n",
       "3       0001b41b1c6bb37e  \"\\nMore\\nI can't make any real suggestions on ...   \n",
       "4       0001d958c54c6e35  You, sir, are my hero. Any chance you remember...   \n",
       "...                  ...                                                ...   \n",
       "159566  ffe987279560d7ff  \":::::And for the second time of asking, when ...   \n",
       "159567  ffea4adeee384e90  You should be ashamed of yourself \\n\\nThat is ...   \n",
       "159568  ffee36eab5c267c9  Spitzer \\n\\nUmm, theres no actual article for ...   \n",
       "159569  fff125370e4aaaf3  And it looks like it was actually you who put ...   \n",
       "159570  fff46fc426af1f9a  \"\\nAnd ... I really don't think you understand...   \n",
       "\n",
       "        toxic  severe_toxic  obscene  threat  insult  identity_hate  \n",
       "0           0             0        0       0       0              0  \n",
       "1           0             0        0       0       0              0  \n",
       "2           0             0        0       0       0              0  \n",
       "3           0             0        0       0       0              0  \n",
       "4           0             0        0       0       0              0  \n",
       "...       ...           ...      ...     ...     ...            ...  \n",
       "159566      0             0        0       0       0              0  \n",
       "159567      0             0        0       0       0              0  \n",
       "159568      0             0        0       0       0              0  \n",
       "159569      0             0        0       0       0              0  \n",
       "159570      0             0        0       0       0              0  \n",
       "\n",
       "[159571 rows x 8 columns]"
      ]
     },
     "execution_count": 18,
     "metadata": {},
     "output_type": "execute_result"
    }
   ],
   "source": [
    "train"
   ]
  },
  {
   "cell_type": "code",
   "execution_count": 19,
   "id": "04ccd6dd",
   "metadata": {},
   "outputs": [
    {
     "data": {
      "text/html": [
       "<div>\n",
       "<style scoped>\n",
       "    .dataframe tbody tr th:only-of-type {\n",
       "        vertical-align: middle;\n",
       "    }\n",
       "\n",
       "    .dataframe tbody tr th {\n",
       "        vertical-align: top;\n",
       "    }\n",
       "\n",
       "    .dataframe thead th {\n",
       "        text-align: right;\n",
       "    }\n",
       "</style>\n",
       "<table border=\"1\" class=\"dataframe\">\n",
       "  <thead>\n",
       "    <tr style=\"text-align: right;\">\n",
       "      <th></th>\n",
       "      <th>id</th>\n",
       "      <th>comment_text</th>\n",
       "    </tr>\n",
       "  </thead>\n",
       "  <tbody>\n",
       "    <tr>\n",
       "      <th>0</th>\n",
       "      <td>00001cee341fdb12</td>\n",
       "      <td>Yo bitch Ja Rule is more succesful then you'll...</td>\n",
       "    </tr>\n",
       "    <tr>\n",
       "      <th>1</th>\n",
       "      <td>0000247867823ef7</td>\n",
       "      <td>== From RfC == \\n\\n The title is fine as it is...</td>\n",
       "    </tr>\n",
       "    <tr>\n",
       "      <th>2</th>\n",
       "      <td>00013b17ad220c46</td>\n",
       "      <td>\" \\n\\n == Sources == \\n\\n * Zawe Ashton on Lap...</td>\n",
       "    </tr>\n",
       "    <tr>\n",
       "      <th>3</th>\n",
       "      <td>00017563c3f7919a</td>\n",
       "      <td>:If you have a look back at the source, the in...</td>\n",
       "    </tr>\n",
       "    <tr>\n",
       "      <th>4</th>\n",
       "      <td>00017695ad8997eb</td>\n",
       "      <td>I don't anonymously edit articles at all.</td>\n",
       "    </tr>\n",
       "    <tr>\n",
       "      <th>...</th>\n",
       "      <td>...</td>\n",
       "      <td>...</td>\n",
       "    </tr>\n",
       "    <tr>\n",
       "      <th>153159</th>\n",
       "      <td>fffcd0960ee309b5</td>\n",
       "      <td>. \\n i totally agree, this stuff is nothing bu...</td>\n",
       "    </tr>\n",
       "    <tr>\n",
       "      <th>153160</th>\n",
       "      <td>fffd7a9a6eb32c16</td>\n",
       "      <td>== Throw from out field to home plate. == \\n\\n...</td>\n",
       "    </tr>\n",
       "    <tr>\n",
       "      <th>153161</th>\n",
       "      <td>fffda9e8d6fafa9e</td>\n",
       "      <td>\" \\n\\n == Okinotorishima categories == \\n\\n I ...</td>\n",
       "    </tr>\n",
       "    <tr>\n",
       "      <th>153162</th>\n",
       "      <td>fffe8f1340a79fc2</td>\n",
       "      <td>\" \\n\\n == \"\"One of the founding nations of the...</td>\n",
       "    </tr>\n",
       "    <tr>\n",
       "      <th>153163</th>\n",
       "      <td>ffffce3fb183ee80</td>\n",
       "      <td>\" \\n :::Stop already. Your bullshit is not wel...</td>\n",
       "    </tr>\n",
       "  </tbody>\n",
       "</table>\n",
       "<p>153164 rows × 2 columns</p>\n",
       "</div>"
      ],
      "text/plain": [
       "                      id                                       comment_text\n",
       "0       00001cee341fdb12  Yo bitch Ja Rule is more succesful then you'll...\n",
       "1       0000247867823ef7  == From RfC == \\n\\n The title is fine as it is...\n",
       "2       00013b17ad220c46  \" \\n\\n == Sources == \\n\\n * Zawe Ashton on Lap...\n",
       "3       00017563c3f7919a  :If you have a look back at the source, the in...\n",
       "4       00017695ad8997eb          I don't anonymously edit articles at all.\n",
       "...                  ...                                                ...\n",
       "153159  fffcd0960ee309b5  . \\n i totally agree, this stuff is nothing bu...\n",
       "153160  fffd7a9a6eb32c16  == Throw from out field to home plate. == \\n\\n...\n",
       "153161  fffda9e8d6fafa9e  \" \\n\\n == Okinotorishima categories == \\n\\n I ...\n",
       "153162  fffe8f1340a79fc2  \" \\n\\n == \"\"One of the founding nations of the...\n",
       "153163  ffffce3fb183ee80  \" \\n :::Stop already. Your bullshit is not wel...\n",
       "\n",
       "[153164 rows x 2 columns]"
      ]
     },
     "execution_count": 19,
     "metadata": {},
     "output_type": "execute_result"
    }
   ],
   "source": [
    "test"
   ]
  },
  {
   "cell_type": "code",
   "execution_count": 20,
   "id": "ea2a0e72",
   "metadata": {},
   "outputs": [
    {
     "data": {
      "text/html": [
       "<div>\n",
       "<style scoped>\n",
       "    .dataframe tbody tr th:only-of-type {\n",
       "        vertical-align: middle;\n",
       "    }\n",
       "\n",
       "    .dataframe tbody tr th {\n",
       "        vertical-align: top;\n",
       "    }\n",
       "\n",
       "    .dataframe thead th {\n",
       "        text-align: right;\n",
       "    }\n",
       "</style>\n",
       "<table border=\"1\" class=\"dataframe\">\n",
       "  <thead>\n",
       "    <tr style=\"text-align: right;\">\n",
       "      <th></th>\n",
       "      <th>id</th>\n",
       "      <th>toxic</th>\n",
       "      <th>severe_toxic</th>\n",
       "      <th>obscene</th>\n",
       "      <th>threat</th>\n",
       "      <th>insult</th>\n",
       "      <th>identity_hate</th>\n",
       "    </tr>\n",
       "  </thead>\n",
       "  <tbody>\n",
       "    <tr>\n",
       "      <th>0</th>\n",
       "      <td>00001cee341fdb12</td>\n",
       "      <td>-1</td>\n",
       "      <td>-1</td>\n",
       "      <td>-1</td>\n",
       "      <td>-1</td>\n",
       "      <td>-1</td>\n",
       "      <td>-1</td>\n",
       "    </tr>\n",
       "    <tr>\n",
       "      <th>1</th>\n",
       "      <td>0000247867823ef7</td>\n",
       "      <td>-1</td>\n",
       "      <td>-1</td>\n",
       "      <td>-1</td>\n",
       "      <td>-1</td>\n",
       "      <td>-1</td>\n",
       "      <td>-1</td>\n",
       "    </tr>\n",
       "    <tr>\n",
       "      <th>2</th>\n",
       "      <td>00013b17ad220c46</td>\n",
       "      <td>-1</td>\n",
       "      <td>-1</td>\n",
       "      <td>-1</td>\n",
       "      <td>-1</td>\n",
       "      <td>-1</td>\n",
       "      <td>-1</td>\n",
       "    </tr>\n",
       "    <tr>\n",
       "      <th>3</th>\n",
       "      <td>00017563c3f7919a</td>\n",
       "      <td>-1</td>\n",
       "      <td>-1</td>\n",
       "      <td>-1</td>\n",
       "      <td>-1</td>\n",
       "      <td>-1</td>\n",
       "      <td>-1</td>\n",
       "    </tr>\n",
       "    <tr>\n",
       "      <th>4</th>\n",
       "      <td>00017695ad8997eb</td>\n",
       "      <td>-1</td>\n",
       "      <td>-1</td>\n",
       "      <td>-1</td>\n",
       "      <td>-1</td>\n",
       "      <td>-1</td>\n",
       "      <td>-1</td>\n",
       "    </tr>\n",
       "    <tr>\n",
       "      <th>...</th>\n",
       "      <td>...</td>\n",
       "      <td>...</td>\n",
       "      <td>...</td>\n",
       "      <td>...</td>\n",
       "      <td>...</td>\n",
       "      <td>...</td>\n",
       "      <td>...</td>\n",
       "    </tr>\n",
       "    <tr>\n",
       "      <th>153159</th>\n",
       "      <td>fffcd0960ee309b5</td>\n",
       "      <td>-1</td>\n",
       "      <td>-1</td>\n",
       "      <td>-1</td>\n",
       "      <td>-1</td>\n",
       "      <td>-1</td>\n",
       "      <td>-1</td>\n",
       "    </tr>\n",
       "    <tr>\n",
       "      <th>153160</th>\n",
       "      <td>fffd7a9a6eb32c16</td>\n",
       "      <td>-1</td>\n",
       "      <td>-1</td>\n",
       "      <td>-1</td>\n",
       "      <td>-1</td>\n",
       "      <td>-1</td>\n",
       "      <td>-1</td>\n",
       "    </tr>\n",
       "    <tr>\n",
       "      <th>153161</th>\n",
       "      <td>fffda9e8d6fafa9e</td>\n",
       "      <td>-1</td>\n",
       "      <td>-1</td>\n",
       "      <td>-1</td>\n",
       "      <td>-1</td>\n",
       "      <td>-1</td>\n",
       "      <td>-1</td>\n",
       "    </tr>\n",
       "    <tr>\n",
       "      <th>153162</th>\n",
       "      <td>fffe8f1340a79fc2</td>\n",
       "      <td>-1</td>\n",
       "      <td>-1</td>\n",
       "      <td>-1</td>\n",
       "      <td>-1</td>\n",
       "      <td>-1</td>\n",
       "      <td>-1</td>\n",
       "    </tr>\n",
       "    <tr>\n",
       "      <th>153163</th>\n",
       "      <td>ffffce3fb183ee80</td>\n",
       "      <td>-1</td>\n",
       "      <td>-1</td>\n",
       "      <td>-1</td>\n",
       "      <td>-1</td>\n",
       "      <td>-1</td>\n",
       "      <td>-1</td>\n",
       "    </tr>\n",
       "  </tbody>\n",
       "</table>\n",
       "<p>153164 rows × 7 columns</p>\n",
       "</div>"
      ],
      "text/plain": [
       "                      id  toxic  severe_toxic  obscene  threat  insult  \\\n",
       "0       00001cee341fdb12     -1            -1       -1      -1      -1   \n",
       "1       0000247867823ef7     -1            -1       -1      -1      -1   \n",
       "2       00013b17ad220c46     -1            -1       -1      -1      -1   \n",
       "3       00017563c3f7919a     -1            -1       -1      -1      -1   \n",
       "4       00017695ad8997eb     -1            -1       -1      -1      -1   \n",
       "...                  ...    ...           ...      ...     ...     ...   \n",
       "153159  fffcd0960ee309b5     -1            -1       -1      -1      -1   \n",
       "153160  fffd7a9a6eb32c16     -1            -1       -1      -1      -1   \n",
       "153161  fffda9e8d6fafa9e     -1            -1       -1      -1      -1   \n",
       "153162  fffe8f1340a79fc2     -1            -1       -1      -1      -1   \n",
       "153163  ffffce3fb183ee80     -1            -1       -1      -1      -1   \n",
       "\n",
       "        identity_hate  \n",
       "0                  -1  \n",
       "1                  -1  \n",
       "2                  -1  \n",
       "3                  -1  \n",
       "4                  -1  \n",
       "...               ...  \n",
       "153159             -1  \n",
       "153160             -1  \n",
       "153161             -1  \n",
       "153162             -1  \n",
       "153163             -1  \n",
       "\n",
       "[153164 rows x 7 columns]"
      ]
     },
     "execution_count": 20,
     "metadata": {},
     "output_type": "execute_result"
    }
   ],
   "source": [
    "test_labels"
   ]
  },
  {
   "cell_type": "markdown",
   "id": "fbba31b5",
   "metadata": {},
   "source": [
    "We can see that the testing set is devided into two sets, one conatins the comments ` X ` and the other contains the labels ` y `. Where they are linked via the comment id number. \n",
    "\n",
    "We can also notice that some comments conatain label values of  ` -1 `, which according to the dataset source indicates an ingonre signal that does not mean anything. \n",
    "So we will drop rows that conatians -1 labels in both data and data_labels sets. "
   ]
  },
  {
   "cell_type": "code",
   "execution_count": 21,
   "id": "de78fc63",
   "metadata": {},
   "outputs": [],
   "source": [
    "# Dropping data with labels values of -1 \n",
    "drop_index = test_labels[\n",
    "    (test_labels['toxic'] == -1) | \n",
    "    (test_labels['severe_toxic'] == -1) | \n",
    "    (test_labels['obscene'] == -1) | \n",
    "    (test_labels['threat'] == -1) | \n",
    "    (test_labels['insult'] == -1) | \n",
    "    (test_labels['identity_hate'] == -1)\n",
    "]['id']\n",
    "test = test[~test.id.isin(drop_index)]\n",
    "test_labels = test_labels[~test_labels.id.isin(drop_index)]"
   ]
  },
  {
   "cell_type": "code",
   "execution_count": 22,
   "id": "8b7329ca",
   "metadata": {},
   "outputs": [],
   "source": [
    "# # train = pd.read_csv('data/train-processed.csv')\n",
    "# # train.drop('id', axis=1, inplace=True)\n",
    "# data_drop = train[\n",
    "#     (train['toxic'] == 0) & \n",
    "#     (train['severe_toxic'] == 0) & \n",
    "#     (train['obscene'] == 0) & \n",
    "#     (train['threat'] == 0) & \n",
    "#     (train['insult'] == 0) & \n",
    "#     (train['identity_hate'] == 0)\n",
    "#          ].sample(frac=1).head(int(len(train)*(55/100)))\n",
    "\n",
    "# train.drop(data_drop.index, axis=0, inplace=True)\n",
    "# train.reset_index(drop=True, inplace=True)"
   ]
  },
  {
   "cell_type": "markdown",
   "id": "e0384148",
   "metadata": {},
   "source": [
    "## 2. Data Preparation\n",
    "\n",
    "\n",
    "### Data Preprocessing"
   ]
  },
  {
   "cell_type": "markdown",
   "id": "ee3f2267",
   "metadata": {},
   "source": [
    "For data cleaning we need to define a function to: \n",
    "  * `Remove HTML tags`\n",
    "  * `Convert all letters into lowerecase`\n",
    "  * `Remove all non-alphapet characters`"
   ]
  },
  {
   "cell_type": "code",
   "execution_count": 23,
   "id": "f6381277",
   "metadata": {},
   "outputs": [
    {
     "name": "stderr",
     "output_type": "stream",
     "text": [
      "[nltk_data] Downloading package stopwords to\n",
      "[nltk_data]     /home/ec2-user/nltk_data...\n",
      "[nltk_data]   Unzipping corpora/stopwords.zip.\n"
     ]
    }
   ],
   "source": [
    "# import neattext.functions as nfx\n",
    "import re\n",
    "from bs4 import BeautifulSoup\n",
    "# from nltk.stem.porter import *\n",
    "from nltk.stem import SnowballStemmer\n",
    "import nltk\n",
    "nltk.download('stopwords')\n",
    "stop_words = set(stopwords.words('english'))\n",
    "\n",
    "def preprocess_text(data):\n",
    "    stemmer = SnowballStemmer(language='english')\n",
    "    text = BeautifulSoup(data, \"html.parser\").get_text() # Remove HTML tags\n",
    "    text = re.sub(r\"[^a-zA-Z]\", \" \", text.lower()) # Convert to lower case\n",
    "    words = text.split()\n",
    "    words = [stemmer.stem(w) for w in words if w not in stopwords.words(\"english\")] # Remove stopwords\n",
    "#     words = [stemmer.stem(w) for w in words] # stem\n",
    "    words = ' '.join(words)\n",
    "\n",
    "    return words"
   ]
  },
  {
   "cell_type": "markdown",
   "id": "8708b9c3",
   "metadata": {},
   "source": [
    "First, let's take a look at a sample origianl comment."
   ]
  },
  {
   "cell_type": "code",
   "execution_count": 24,
   "id": "14d34cb9",
   "metadata": {},
   "outputs": [
    {
     "data": {
      "text/plain": [
       "\"Explanation\\nWhy the edits made under my username Hardcore Metallica Fan were reverted? They weren't vandalisms, just closure on some GAs after I voted at New York Dolls FAC. And please don't remove the template from the talk page since I'm retired now.89.205.38.27\""
      ]
     },
     "execution_count": 24,
     "metadata": {},
     "output_type": "execute_result"
    }
   ],
   "source": [
    "train['comment_text'][0]"
   ]
  },
  {
   "cell_type": "markdown",
   "id": "3ed336e7",
   "metadata": {},
   "source": [
    "Then let's see the same comment after cleaning. "
   ]
  },
  {
   "cell_type": "code",
   "execution_count": 25,
   "id": "db723283",
   "metadata": {},
   "outputs": [
    {
     "data": {
      "text/plain": [
       "'explan edit made usernam hardcor metallica fan revert vandal closur gas vote new york doll fac pleas remov templat talk page sinc retir'"
      ]
     },
     "execution_count": 25,
     "metadata": {},
     "output_type": "execute_result"
    }
   ],
   "source": [
    "preprocess_text(train['comment_text'][0])"
   ]
  },
  {
   "cell_type": "markdown",
   "id": "e074d908",
   "metadata": {},
   "source": [
    "#### Processing all comments in the training and testing sets. "
   ]
  },
  {
   "cell_type": "code",
   "execution_count": 26,
   "id": "340258df",
   "metadata": {},
   "outputs": [
    {
     "name": "stderr",
     "output_type": "stream",
     "text": [
      "/home/ec2-user/anaconda3/envs/mxnet_p36/lib/python3.6/site-packages/bs4/__init__.py:424: MarkupResemblesLocatorWarning: \"http://en.wikipedia.org/wiki/Wikipedia_talk:No_original_research/archive15#YouTube_art_as_primary_source\" looks like a URL. Beautiful Soup is not an HTTP client. You should probably use an HTTP client like requests to get the document behind the URL, and feed that document to Beautiful Soup.\n",
      "  MarkupResemblesLocatorWarning\n",
      "/home/ec2-user/anaconda3/envs/mxnet_p36/lib/python3.6/site-packages/bs4/__init__.py:424: MarkupResemblesLocatorWarning: \"http://finance.yahoo.com/news/7-fascinating-nuggets-another-bewildering-150348488.html\" looks like a URL. Beautiful Soup is not an HTTP client. You should probably use an HTTP client like requests to get the document behind the URL, and feed that document to Beautiful Soup.\n",
      "  MarkupResemblesLocatorWarning\n",
      "/home/ec2-user/anaconda3/envs/mxnet_p36/lib/python3.6/site-packages/bs4/__init__.py:424: MarkupResemblesLocatorWarning: \"http://en.wikipedia.org/wiki/Wikipedia:ELYES\" looks like a URL. Beautiful Soup is not an HTTP client. You should probably use an HTTP client like requests to get the document behind the URL, and feed that document to Beautiful Soup.\n",
      "  MarkupResemblesLocatorWarning\n",
      "/home/ec2-user/anaconda3/envs/mxnet_p36/lib/python3.6/site-packages/bs4/__init__.py:424: MarkupResemblesLocatorWarning: \"http://www.haaretz.com/news/diplomacy-defense/2-279-calories-per-person-how-israel-made-sure-gaza-didn-t-starve.premium-1.470419\" looks like a URL. Beautiful Soup is not an HTTP client. You should probably use an HTTP client like requests to get the document behind the URL, and feed that document to Beautiful Soup.\n",
      "  MarkupResemblesLocatorWarning\n",
      "/home/ec2-user/anaconda3/envs/mxnet_p36/lib/python3.6/site-packages/bs4/__init__.py:424: MarkupResemblesLocatorWarning: \"http://en.wikipedia.org/wiki/Half-Life_%28series%29\" looks like a URL. Beautiful Soup is not an HTTP client. You should probably use an HTTP client like requests to get the document behind the URL, and feed that document to Beautiful Soup.\n",
      "  MarkupResemblesLocatorWarning\n",
      "/home/ec2-user/anaconda3/envs/mxnet_p36/lib/python3.6/site-packages/bs4/__init__.py:424: MarkupResemblesLocatorWarning: \"http://es.wikipedia.org/wiki/Usuario_Discusi%C3%B3n:Sarah_W.\" looks like a URL. Beautiful Soup is not an HTTP client. You should probably use an HTTP client like requests to get the document behind the URL, and feed that document to Beautiful Soup.\n",
      "  MarkupResemblesLocatorWarning\n",
      "/home/ec2-user/anaconda3/envs/mxnet_p36/lib/python3.6/site-packages/bs4/__init__.py:424: MarkupResemblesLocatorWarning: \"http://en.wikipedia.org/wiki/Rayleigh%E2%80%93B%C3%A9nard_convection\" looks like a URL. Beautiful Soup is not an HTTP client. You should probably use an HTTP client like requests to get the document behind the URL, and feed that document to Beautiful Soup.\n",
      "  MarkupResemblesLocatorWarning\n",
      "/home/ec2-user/anaconda3/envs/mxnet_p36/lib/python3.6/site-packages/ipykernel/__main__.py:2: SettingWithCopyWarning: \n",
      "A value is trying to be set on a copy of a slice from a DataFrame.\n",
      "Try using .loc[row_indexer,col_indexer] = value instead\n",
      "\n",
      "See the caveats in the documentation: https://pandas.pydata.org/pandas-docs/stable/user_guide/indexing.html#returning-a-view-versus-a-copy\n",
      "  from ipykernel import kernelapp as app\n"
     ]
    }
   ],
   "source": [
    "train['comment_text'] = train['comment_text'].apply(preprocess_text)\n",
    "test['comment_text'] = test['comment_text'].apply(preprocess_text)"
   ]
  },
  {
   "cell_type": "code",
   "execution_count": 27,
   "id": "bc7e9a06",
   "metadata": {},
   "outputs": [
    {
     "data": {
      "text/html": [
       "<div>\n",
       "<style scoped>\n",
       "    .dataframe tbody tr th:only-of-type {\n",
       "        vertical-align: middle;\n",
       "    }\n",
       "\n",
       "    .dataframe tbody tr th {\n",
       "        vertical-align: top;\n",
       "    }\n",
       "\n",
       "    .dataframe thead th {\n",
       "        text-align: right;\n",
       "    }\n",
       "</style>\n",
       "<table border=\"1\" class=\"dataframe\">\n",
       "  <thead>\n",
       "    <tr style=\"text-align: right;\">\n",
       "      <th></th>\n",
       "      <th>id</th>\n",
       "      <th>comment_text</th>\n",
       "      <th>toxic</th>\n",
       "      <th>severe_toxic</th>\n",
       "      <th>obscene</th>\n",
       "      <th>threat</th>\n",
       "      <th>insult</th>\n",
       "      <th>identity_hate</th>\n",
       "    </tr>\n",
       "  </thead>\n",
       "  <tbody>\n",
       "    <tr>\n",
       "      <th>0</th>\n",
       "      <td>0000997932d777bf</td>\n",
       "      <td>explan edit made usernam hardcor metallica fan...</td>\n",
       "      <td>0</td>\n",
       "      <td>0</td>\n",
       "      <td>0</td>\n",
       "      <td>0</td>\n",
       "      <td>0</td>\n",
       "      <td>0</td>\n",
       "    </tr>\n",
       "    <tr>\n",
       "      <th>1</th>\n",
       "      <td>000103f0d9cfb60f</td>\n",
       "      <td>aww match background colour seem stuck thank t...</td>\n",
       "      <td>0</td>\n",
       "      <td>0</td>\n",
       "      <td>0</td>\n",
       "      <td>0</td>\n",
       "      <td>0</td>\n",
       "      <td>0</td>\n",
       "    </tr>\n",
       "    <tr>\n",
       "      <th>2</th>\n",
       "      <td>000113f07ec002fd</td>\n",
       "      <td>hey man realli tri edit war guy constant remov...</td>\n",
       "      <td>0</td>\n",
       "      <td>0</td>\n",
       "      <td>0</td>\n",
       "      <td>0</td>\n",
       "      <td>0</td>\n",
       "      <td>0</td>\n",
       "    </tr>\n",
       "    <tr>\n",
       "      <th>3</th>\n",
       "      <td>0001b41b1c6bb37e</td>\n",
       "      <td>make real suggest improv wonder section statis...</td>\n",
       "      <td>0</td>\n",
       "      <td>0</td>\n",
       "      <td>0</td>\n",
       "      <td>0</td>\n",
       "      <td>0</td>\n",
       "      <td>0</td>\n",
       "    </tr>\n",
       "    <tr>\n",
       "      <th>4</th>\n",
       "      <td>0001d958c54c6e35</td>\n",
       "      <td>sir hero chanc rememb page</td>\n",
       "      <td>0</td>\n",
       "      <td>0</td>\n",
       "      <td>0</td>\n",
       "      <td>0</td>\n",
       "      <td>0</td>\n",
       "      <td>0</td>\n",
       "    </tr>\n",
       "    <tr>\n",
       "      <th>...</th>\n",
       "      <td>...</td>\n",
       "      <td>...</td>\n",
       "      <td>...</td>\n",
       "      <td>...</td>\n",
       "      <td>...</td>\n",
       "      <td>...</td>\n",
       "      <td>...</td>\n",
       "      <td>...</td>\n",
       "    </tr>\n",
       "    <tr>\n",
       "      <th>159566</th>\n",
       "      <td>ffe987279560d7ff</td>\n",
       "      <td>second time ask view complet contradict covera...</td>\n",
       "      <td>0</td>\n",
       "      <td>0</td>\n",
       "      <td>0</td>\n",
       "      <td>0</td>\n",
       "      <td>0</td>\n",
       "      <td>0</td>\n",
       "    </tr>\n",
       "    <tr>\n",
       "      <th>159567</th>\n",
       "      <td>ffea4adeee384e90</td>\n",
       "      <td>asham horribl thing put talk page</td>\n",
       "      <td>0</td>\n",
       "      <td>0</td>\n",
       "      <td>0</td>\n",
       "      <td>0</td>\n",
       "      <td>0</td>\n",
       "      <td>0</td>\n",
       "    </tr>\n",
       "    <tr>\n",
       "      <th>159568</th>\n",
       "      <td>ffee36eab5c267c9</td>\n",
       "      <td>spitzer umm there actual articl prostitut ring...</td>\n",
       "      <td>0</td>\n",
       "      <td>0</td>\n",
       "      <td>0</td>\n",
       "      <td>0</td>\n",
       "      <td>0</td>\n",
       "      <td>0</td>\n",
       "    </tr>\n",
       "    <tr>\n",
       "      <th>159569</th>\n",
       "      <td>fff125370e4aaaf3</td>\n",
       "      <td>look like actual put speedi first version dele...</td>\n",
       "      <td>0</td>\n",
       "      <td>0</td>\n",
       "      <td>0</td>\n",
       "      <td>0</td>\n",
       "      <td>0</td>\n",
       "      <td>0</td>\n",
       "    </tr>\n",
       "    <tr>\n",
       "      <th>159570</th>\n",
       "      <td>fff46fc426af1f9a</td>\n",
       "      <td>realli think understand came idea bad right aw...</td>\n",
       "      <td>0</td>\n",
       "      <td>0</td>\n",
       "      <td>0</td>\n",
       "      <td>0</td>\n",
       "      <td>0</td>\n",
       "      <td>0</td>\n",
       "    </tr>\n",
       "  </tbody>\n",
       "</table>\n",
       "<p>159571 rows × 8 columns</p>\n",
       "</div>"
      ],
      "text/plain": [
       "                      id                                       comment_text  \\\n",
       "0       0000997932d777bf  explan edit made usernam hardcor metallica fan...   \n",
       "1       000103f0d9cfb60f  aww match background colour seem stuck thank t...   \n",
       "2       000113f07ec002fd  hey man realli tri edit war guy constant remov...   \n",
       "3       0001b41b1c6bb37e  make real suggest improv wonder section statis...   \n",
       "4       0001d958c54c6e35                         sir hero chanc rememb page   \n",
       "...                  ...                                                ...   \n",
       "159566  ffe987279560d7ff  second time ask view complet contradict covera...   \n",
       "159567  ffea4adeee384e90                  asham horribl thing put talk page   \n",
       "159568  ffee36eab5c267c9  spitzer umm there actual articl prostitut ring...   \n",
       "159569  fff125370e4aaaf3  look like actual put speedi first version dele...   \n",
       "159570  fff46fc426af1f9a  realli think understand came idea bad right aw...   \n",
       "\n",
       "        toxic  severe_toxic  obscene  threat  insult  identity_hate  \n",
       "0           0             0        0       0       0              0  \n",
       "1           0             0        0       0       0              0  \n",
       "2           0             0        0       0       0              0  \n",
       "3           0             0        0       0       0              0  \n",
       "4           0             0        0       0       0              0  \n",
       "...       ...           ...      ...     ...     ...            ...  \n",
       "159566      0             0        0       0       0              0  \n",
       "159567      0             0        0       0       0              0  \n",
       "159568      0             0        0       0       0              0  \n",
       "159569      0             0        0       0       0              0  \n",
       "159570      0             0        0       0       0              0  \n",
       "\n",
       "[159571 rows x 8 columns]"
      ]
     },
     "execution_count": 27,
     "metadata": {},
     "output_type": "execute_result"
    }
   ],
   "source": [
    "train"
   ]
  },
  {
   "cell_type": "code",
   "execution_count": 28,
   "id": "e4f15454",
   "metadata": {},
   "outputs": [
    {
     "data": {
      "text/html": [
       "<div>\n",
       "<style scoped>\n",
       "    .dataframe tbody tr th:only-of-type {\n",
       "        vertical-align: middle;\n",
       "    }\n",
       "\n",
       "    .dataframe tbody tr th {\n",
       "        vertical-align: top;\n",
       "    }\n",
       "\n",
       "    .dataframe thead th {\n",
       "        text-align: right;\n",
       "    }\n",
       "</style>\n",
       "<table border=\"1\" class=\"dataframe\">\n",
       "  <thead>\n",
       "    <tr style=\"text-align: right;\">\n",
       "      <th></th>\n",
       "      <th>id</th>\n",
       "      <th>comment_text</th>\n",
       "    </tr>\n",
       "  </thead>\n",
       "  <tbody>\n",
       "    <tr>\n",
       "      <th>5</th>\n",
       "      <td>0001ea8717f6de06</td>\n",
       "      <td>thank understand think high would revert witho...</td>\n",
       "    </tr>\n",
       "    <tr>\n",
       "      <th>7</th>\n",
       "      <td>000247e83dcc1211</td>\n",
       "      <td>dear god site horribl</td>\n",
       "    </tr>\n",
       "    <tr>\n",
       "      <th>11</th>\n",
       "      <td>0002f87b16116a7f</td>\n",
       "      <td>somebodi invari tri add religion realli mean w...</td>\n",
       "    </tr>\n",
       "    <tr>\n",
       "      <th>13</th>\n",
       "      <td>0003e1cccfd5a40a</td>\n",
       "      <td>say right type type institut need case three l...</td>\n",
       "    </tr>\n",
       "    <tr>\n",
       "      <th>14</th>\n",
       "      <td>00059ace3e3e9a53</td>\n",
       "      <td>ad new product list make sure relev ad new pro...</td>\n",
       "    </tr>\n",
       "    <tr>\n",
       "      <th>...</th>\n",
       "      <td>...</td>\n",
       "      <td>...</td>\n",
       "    </tr>\n",
       "    <tr>\n",
       "      <th>153150</th>\n",
       "      <td>fff8f64043129fa2</td>\n",
       "      <td>jerom see never got around surpris look exampl...</td>\n",
       "    </tr>\n",
       "    <tr>\n",
       "      <th>153151</th>\n",
       "      <td>fff9d70fe0722906</td>\n",
       "      <td>lucki bastard http wikimediafound org wiki pre...</td>\n",
       "    </tr>\n",
       "    <tr>\n",
       "      <th>153154</th>\n",
       "      <td>fffa8a11c4378854</td>\n",
       "      <td>shame want speak gay romanian</td>\n",
       "    </tr>\n",
       "    <tr>\n",
       "      <th>153155</th>\n",
       "      <td>fffac2a094c8e0e2</td>\n",
       "      <td>mel gibson nazi bitch make shitti movi much bu...</td>\n",
       "    </tr>\n",
       "    <tr>\n",
       "      <th>153156</th>\n",
       "      <td>fffb5451268fb5ba</td>\n",
       "      <td>unicorn lair discoveri suppos unicorn lair dis...</td>\n",
       "    </tr>\n",
       "  </tbody>\n",
       "</table>\n",
       "<p>63978 rows × 2 columns</p>\n",
       "</div>"
      ],
      "text/plain": [
       "                      id                                       comment_text\n",
       "5       0001ea8717f6de06  thank understand think high would revert witho...\n",
       "7       000247e83dcc1211                              dear god site horribl\n",
       "11      0002f87b16116a7f  somebodi invari tri add religion realli mean w...\n",
       "13      0003e1cccfd5a40a  say right type type institut need case three l...\n",
       "14      00059ace3e3e9a53  ad new product list make sure relev ad new pro...\n",
       "...                  ...                                                ...\n",
       "153150  fff8f64043129fa2  jerom see never got around surpris look exampl...\n",
       "153151  fff9d70fe0722906  lucki bastard http wikimediafound org wiki pre...\n",
       "153154  fffa8a11c4378854                      shame want speak gay romanian\n",
       "153155  fffac2a094c8e0e2  mel gibson nazi bitch make shitti movi much bu...\n",
       "153156  fffb5451268fb5ba  unicorn lair discoveri suppos unicorn lair dis...\n",
       "\n",
       "[63978 rows x 2 columns]"
      ]
     },
     "execution_count": 28,
     "metadata": {},
     "output_type": "execute_result"
    }
   ],
   "source": [
    "test"
   ]
  },
  {
   "cell_type": "markdown",
   "id": "b36e92dc",
   "metadata": {},
   "source": [
    "#### Spliting training and testing sets"
   ]
  },
  {
   "cell_type": "code",
   "execution_count": 140,
   "id": "03d29d78",
   "metadata": {},
   "outputs": [],
   "source": [
    "X_train = train['comment_text']\n",
    "y_train = train[labels]\n",
    "\n",
    "X_test = test['comment_text']\n",
    "y_test = test_labels[labels]"
   ]
  },
  {
   "cell_type": "markdown",
   "id": "1216cc84",
   "metadata": {},
   "source": [
    "## 3. Modeling"
   ]
  },
  {
   "cell_type": "markdown",
   "id": "0481ce0e",
   "metadata": {},
   "source": [
    "Since we have a huge set of data, and extracting text_features using TfidfVectorizer that will be fed to the model will require a huge amount of memory.\n",
    "\n",
    "We will use sklearn's `Pipline` to extract features from comments and train the model through piplining over each row, to save space. \n",
    "\n",
    "To do that we will define a function that will generate a pipline with the same vectorizer properties for differernt classifiers. "
   ]
  },
  {
   "cell_type": "markdown",
   "id": "48f548ae",
   "metadata": {},
   "source": [
    "### I. Initial Stage: Benchmarking"
   ]
  },
  {
   "cell_type": "code",
   "execution_count": 137,
   "id": "5e39e129",
   "metadata": {},
   "outputs": [],
   "source": [
    "def define_model(Classifier):\n",
    "    model = Pipeline([\n",
    "                    ('tfidf', TfidfVectorizer(\n",
    "                        strip_accents='unicode',     \n",
    "                        analyzer='word',            \n",
    "                        token_pattern=r'\\w{1,}',    \n",
    "                        ngram_range=(1, 3),         \n",
    "                        stop_words='english',\n",
    "                        sublinear_tf=True)\n",
    "                    ),\n",
    "                    ('clf', Classifier)\n",
    "                ])\n",
    "    return model\n",
    "    pass"
   ]
  },
  {
   "cell_type": "code",
   "execution_count": 31,
   "id": "4b690a31",
   "metadata": {},
   "outputs": [],
   "source": [
    "# labels= ['toxic', 'severe_toxic', 'obscene', 'threat', 'insult', 'identity_hate']\n",
    "\n",
    "# train = pd.read_csv('model_data/train-processed.csv')\n",
    "# test = pd.read_csv('model_data/test-processed.csv')\n",
    "# test_labels = pd.read_csv('model_data/test_labels-processed.csv')"
   ]
  },
  {
   "cell_type": "code",
   "execution_count": 32,
   "id": "496a839e",
   "metadata": {},
   "outputs": [],
   "source": [
    "def train_and_test(x_train, y_train, x_test, y_test, model, labels):\n",
    "#     predecition_df = pd.DataFrame()\n",
    "#     for category in labels:\n",
    "#         print('... Processing {}'.format(category))\n",
    "#         # train the model using X_dtm & y\n",
    "#         model.fit(x_train, y_train[category])\n",
    "#         # compute the testing accuracy\n",
    "#         prediction = model.predict(x_test)\n",
    "# #         print('Test accuracy is {}'.format(accuracy_score(y_test[category], prediction)))\n",
    "# #         print('Test accuracy is {}'.format(hamming_loss(y_test[category], prediction)))\n",
    "#         predecition_df[category] = prediction\n",
    "    model.fit(x_train, y_train)\n",
    "    prediction = model.predict(x_test)\n",
    "    return prediction\n",
    "    pass\n",
    "\n"
   ]
  },
  {
   "cell_type": "markdown",
   "id": "c90955f5",
   "metadata": {},
   "source": [
    "#### We will use `OneVsRestClassifier` for each of the following models\n",
    "\n",
    "\n",
    "#### MultinomialNB"
   ]
  },
  {
   "cell_type": "code",
   "execution_count": 33,
   "id": "1e715ffa",
   "metadata": {},
   "outputs": [],
   "source": [
    "model = define_model(OneVsRestClassifier(MultinomialNB(\n",
    "                    fit_prior=True, class_prior=None)))\n",
    "MNB_pred = train_and_test(X_train, y_train, X_test, y_test, model, labels)"
   ]
  },
  {
   "cell_type": "code",
   "execution_count": 34,
   "id": "c52e0a56",
   "metadata": {},
   "outputs": [
    {
     "name": "stdout",
     "output_type": "stream",
     "text": [
      "               precision    recall  f1-score   support\n",
      "\n",
      "        toxic       0.97      0.07      0.14      6090\n",
      " severe_toxic       0.00      0.00      0.00       367\n",
      "      obscene       0.99      0.04      0.08      3691\n",
      "       threat       0.00      0.00      0.00       211\n",
      "       insult       1.00      0.00      0.01      3427\n",
      "identity_hate       0.00      0.00      0.00       712\n",
      "\n",
      "    micro avg       0.98      0.04      0.08     14498\n",
      "    macro avg       0.49      0.02      0.04     14498\n",
      " weighted avg       0.90      0.04      0.08     14498\n",
      "  samples avg       0.01      0.00      0.00     14498\n",
      "\n"
     ]
    },
    {
     "name": "stderr",
     "output_type": "stream",
     "text": [
      "/home/ec2-user/anaconda3/envs/mxnet_p36/lib/python3.6/site-packages/sklearn/metrics/_classification.py:1245: UndefinedMetricWarning: Precision and F-score are ill-defined and being set to 0.0 in labels with no predicted samples. Use `zero_division` parameter to control this behavior.\n",
      "  _warn_prf(average, modifier, msg_start, len(result))\n",
      "/home/ec2-user/anaconda3/envs/mxnet_p36/lib/python3.6/site-packages/sklearn/metrics/_classification.py:1245: UndefinedMetricWarning: Precision and F-score are ill-defined and being set to 0.0 in samples with no predicted labels. Use `zero_division` parameter to control this behavior.\n",
      "  _warn_prf(average, modifier, msg_start, len(result))\n",
      "/home/ec2-user/anaconda3/envs/mxnet_p36/lib/python3.6/site-packages/sklearn/metrics/_classification.py:1245: UndefinedMetricWarning: Recall and F-score are ill-defined and being set to 0.0 in samples with no true labels. Use `zero_division` parameter to control this behavior.\n",
      "  _warn_prf(average, modifier, msg_start, len(result))\n"
     ]
    }
   ],
   "source": [
    "print(classification_report(\n",
    "    y_test,\n",
    "    MNB_pred,\n",
    "    output_dict=False,\n",
    "    target_names=labels\n",
    "))"
   ]
  },
  {
   "cell_type": "code",
   "execution_count": 144,
   "id": "da3c39d5",
   "metadata": {},
   "outputs": [
    {
     "data": {
      "text/plain": [
       "array([[[57876,    12],\n",
       "        [ 5634,   456]],\n",
       "\n",
       "       [[63611,     0],\n",
       "        [  367,     0]],\n",
       "\n",
       "       [[60285,     2],\n",
       "        [ 3544,   147]],\n",
       "\n",
       "       [[63767,     0],\n",
       "        [  211,     0]],\n",
       "\n",
       "       [[60551,     0],\n",
       "        [ 3412,    15]],\n",
       "\n",
       "       [[63266,     0],\n",
       "        [  712,     0]]])"
      ]
     },
     "execution_count": 144,
     "metadata": {},
     "output_type": "execute_result"
    }
   ],
   "source": [
    "multilabel_confusion_matrix(y_test, MNB_pred)"
   ]
  },
  {
   "cell_type": "markdown",
   "id": "dde42075",
   "metadata": {},
   "source": [
    "\n",
    "#### `we can see from the confusion_matrix that MultinomialNB did not did not predict the postitive values for severe_toxic, threat, and identity_hate.`"
   ]
  },
  {
   "cell_type": "markdown",
   "id": "7a1b2751",
   "metadata": {},
   "source": [
    "### LogisticRegression"
   ]
  },
  {
   "cell_type": "code",
   "execution_count": 35,
   "id": "f582eb13",
   "metadata": {},
   "outputs": [],
   "source": [
    "model = define_model(OneVsRestClassifier(LogisticRegression(C = 10, penalty='l2', solver = 'liblinear', random_state=100)))\n",
    "LR_pred = train_and_test(X_train, y_train, X_test, y_test, model, labels)"
   ]
  },
  {
   "cell_type": "code",
   "execution_count": 36,
   "id": "3bac31d2",
   "metadata": {},
   "outputs": [
    {
     "name": "stdout",
     "output_type": "stream",
     "text": [
      "               precision    recall  f1-score   support\n",
      "\n",
      "        toxic       0.56      0.83      0.67      6090\n",
      " severe_toxic       0.27      0.51      0.35       367\n",
      "      obscene       0.62      0.77      0.69      3691\n",
      "       threat       0.41      0.36      0.38       211\n",
      "       insult       0.58      0.72      0.64      3427\n",
      "identity_hate       0.55      0.53      0.54       712\n",
      "\n",
      "    micro avg       0.56      0.76      0.65     14498\n",
      "    macro avg       0.50      0.62      0.55     14498\n",
      " weighted avg       0.57      0.76      0.65     14498\n",
      "  samples avg       0.07      0.07      0.07     14498\n",
      "\n"
     ]
    },
    {
     "name": "stderr",
     "output_type": "stream",
     "text": [
      "/home/ec2-user/anaconda3/envs/mxnet_p36/lib/python3.6/site-packages/sklearn/metrics/_classification.py:1245: UndefinedMetricWarning: Precision and F-score are ill-defined and being set to 0.0 in samples with no predicted labels. Use `zero_division` parameter to control this behavior.\n",
      "  _warn_prf(average, modifier, msg_start, len(result))\n",
      "/home/ec2-user/anaconda3/envs/mxnet_p36/lib/python3.6/site-packages/sklearn/metrics/_classification.py:1245: UndefinedMetricWarning: Recall and F-score are ill-defined and being set to 0.0 in samples with no true labels. Use `zero_division` parameter to control this behavior.\n",
      "  _warn_prf(average, modifier, msg_start, len(result))\n"
     ]
    }
   ],
   "source": [
    "print(classification_report(\n",
    "    y_test,\n",
    "    LR_pred,\n",
    "    output_dict=False,\n",
    "    target_names=labels\n",
    "))"
   ]
  },
  {
   "cell_type": "markdown",
   "id": "a7631224",
   "metadata": {},
   "source": [
    "### LinearSVC"
   ]
  },
  {
   "cell_type": "code",
   "execution_count": 37,
   "id": "8d54116b",
   "metadata": {},
   "outputs": [],
   "source": [
    "model = define_model(OneVsRestClassifier(LinearSVC(), n_jobs=4))\n",
    "OSVC_pred = train_and_test(X_train, y_train, X_test, y_test, model, labels)"
   ]
  },
  {
   "cell_type": "code",
   "execution_count": 38,
   "id": "a68ebe63",
   "metadata": {},
   "outputs": [
    {
     "name": "stdout",
     "output_type": "stream",
     "text": [
      "               precision    recall  f1-score   support\n",
      "\n",
      "        toxic       0.55      0.85      0.67      6090\n",
      " severe_toxic       0.33      0.38      0.35       367\n",
      "      obscene       0.60      0.77      0.67      3691\n",
      "       threat       0.44      0.18      0.26       211\n",
      "       insult       0.58      0.71      0.64      3427\n",
      "identity_hate       0.66      0.42      0.51       712\n",
      "\n",
      "    micro avg       0.57      0.75      0.65     14498\n",
      "    macro avg       0.53      0.55      0.52     14498\n",
      " weighted avg       0.57      0.75      0.64     14498\n",
      "  samples avg       0.07      0.07      0.07     14498\n",
      "\n"
     ]
    },
    {
     "name": "stderr",
     "output_type": "stream",
     "text": [
      "/home/ec2-user/anaconda3/envs/mxnet_p36/lib/python3.6/site-packages/sklearn/metrics/_classification.py:1245: UndefinedMetricWarning: Precision and F-score are ill-defined and being set to 0.0 in samples with no predicted labels. Use `zero_division` parameter to control this behavior.\n",
      "  _warn_prf(average, modifier, msg_start, len(result))\n",
      "/home/ec2-user/anaconda3/envs/mxnet_p36/lib/python3.6/site-packages/sklearn/metrics/_classification.py:1245: UndefinedMetricWarning: Recall and F-score are ill-defined and being set to 0.0 in samples with no true labels. Use `zero_division` parameter to control this behavior.\n",
      "  _warn_prf(average, modifier, msg_start, len(result))\n"
     ]
    }
   ],
   "source": [
    "print(classification_report(\n",
    "    y_test,\n",
    "    OSVC_pred,\n",
    "    output_dict=False,\n",
    "    target_names=labels\n",
    "))"
   ]
  },
  {
   "cell_type": "markdown",
   "id": "f91722ad",
   "metadata": {},
   "source": [
    "#### XGBoost"
   ]
  },
  {
   "cell_type": "code",
   "execution_count": 40,
   "id": "e0be9e11",
   "metadata": {},
   "outputs": [],
   "source": [
    "# model = define_model(OneVsRestClassifier(xgb.XGBClassifier()))\n",
    "# xgb_pred = train_and_test(X_train, y_train, X_test, y_test, model, labels)\n",
    "# print(classification_report(\n",
    "#     y_test,\n",
    "#     xgb_pred,\n",
    "#     output_dict=False,\n",
    "#     target_names=labels\n",
    "# ))"
   ]
  },
  {
   "cell_type": "markdown",
   "id": "cf16345e",
   "metadata": {},
   "source": [
    "###  II. Refinement stage"
   ]
  },
  {
   "cell_type": "markdown",
   "id": "31a31279",
   "metadata": {},
   "source": [
    "In this stage we will try to tune the models.  \n",
    "\n",
    "\n",
    "Tuninig will be done by modifing different paramater for the vectorizer to enhance feature extraction.\n",
    "\n",
    "To do that we will rewrite `define_model` method with more parameters. "
   ]
  },
  {
   "cell_type": "code",
   "execution_count": 145,
   "id": "ac4e5757",
   "metadata": {},
   "outputs": [],
   "source": [
    "def define_model(Classifier, max_df, ngram, max_features):\n",
    "    model = Pipeline([\n",
    "                    ('tfidf', TfidfVectorizer(\n",
    "                        max_df=max_df,\n",
    "                        strip_accents='unicode',     \n",
    "                        analyzer='word',            \n",
    "                        token_pattern=r'\\w{1,}',    \n",
    "                        ngram_range=(1, ngram),         \n",
    "                        stop_words='english',\n",
    "                        sublinear_tf=True,\n",
    "                        max_features=max_features)\n",
    "                     ),\n",
    "                    ('clf', Classifier)\n",
    "                ])\n",
    "    return model\n",
    "    pass"
   ]
  },
  {
   "cell_type": "markdown",
   "id": "f2c1ce81",
   "metadata": {},
   "source": [
    "Lets start with Logistic Regression"
   ]
  },
  {
   "cell_type": "code",
   "execution_count": 50,
   "id": "a455fffe",
   "metadata": {},
   "outputs": [
    {
     "name": "stdout",
     "output_type": "stream",
     "text": [
      "               precision    recall  f1-score   support\n",
      "\n",
      "        toxic       0.58      0.81      0.68      6090\n",
      " severe_toxic       0.32      0.42      0.37       367\n",
      "      obscene       0.65      0.74      0.69      3691\n",
      "       threat       0.41      0.30      0.35       211\n",
      "       insult       0.62      0.65      0.64      3427\n",
      "identity_hate       0.61      0.46      0.53       712\n",
      "\n",
      "    micro avg       0.60      0.72      0.65     14498\n",
      "    macro avg       0.53      0.56      0.54     14498\n",
      " weighted avg       0.60      0.72      0.65     14498\n",
      "  samples avg       0.07      0.07      0.07     14498\n",
      "\n"
     ]
    },
    {
     "name": "stderr",
     "output_type": "stream",
     "text": [
      "/home/ec2-user/anaconda3/envs/mxnet_p36/lib/python3.6/site-packages/sklearn/metrics/_classification.py:1245: UndefinedMetricWarning: Precision and F-score are ill-defined and being set to 0.0 in samples with no predicted labels. Use `zero_division` parameter to control this behavior.\n",
      "  _warn_prf(average, modifier, msg_start, len(result))\n",
      "/home/ec2-user/anaconda3/envs/mxnet_p36/lib/python3.6/site-packages/sklearn/metrics/_classification.py:1245: UndefinedMetricWarning: Recall and F-score are ill-defined and being set to 0.0 in samples with no true labels. Use `zero_division` parameter to control this behavior.\n",
      "  _warn_prf(average, modifier, msg_start, len(result))\n"
     ]
    }
   ],
   "source": [
    "model = define_model(OneVsRestClassifier(LogisticRegression(C = 10, penalty='l2', solver = 'liblinear', random_state=100)), 0.25, 2, None)\n",
    "pred = train_and_test(X_train, y_train, X_test, y_test, model, labels)\n",
    "print(classification_report(\n",
    "    y_test,\n",
    "    pred,\n",
    "    output_dict=False,\n",
    "    target_names=labels\n",
    "))"
   ]
  },
  {
   "cell_type": "markdown",
   "id": "0f6fced9",
   "metadata": {},
   "source": [
    "We can see that the precision has increased \n",
    "\n",
    "Let's increase n_gram to 4"
   ]
  },
  {
   "cell_type": "code",
   "execution_count": 148,
   "id": "81c8e097",
   "metadata": {},
   "outputs": [
    {
     "name": "stdout",
     "output_type": "stream",
     "text": [
      "               precision    recall  f1-score   support\n",
      "\n",
      "        toxic       0.86      0.88      0.87      6090\n",
      " severe_toxic       0.28      0.51      0.36       367\n",
      "      obscene       0.77      0.79      0.78      3691\n",
      "       threat       0.51      0.39      0.44       211\n",
      "       insult       0.70      0.75      0.72      3427\n",
      "identity_hate       0.67      0.55      0.60       712\n",
      "\n",
      "    micro avg       0.76      0.79      0.78     14498\n",
      "    macro avg       0.63      0.64      0.63     14498\n",
      " weighted avg       0.77      0.79      0.78     14498\n",
      "  samples avg       0.32      0.34      0.31     14498\n",
      "\n"
     ]
    },
    {
     "name": "stderr",
     "output_type": "stream",
     "text": [
      "/home/ec2-user/anaconda3/envs/mxnet_p36/lib/python3.6/site-packages/sklearn/metrics/_classification.py:1245: UndefinedMetricWarning: Precision and F-score are ill-defined and being set to 0.0 in samples with no predicted labels. Use `zero_division` parameter to control this behavior.\n",
      "  _warn_prf(average, modifier, msg_start, len(result))\n",
      "/home/ec2-user/anaconda3/envs/mxnet_p36/lib/python3.6/site-packages/sklearn/metrics/_classification.py:1245: UndefinedMetricWarning: Recall and F-score are ill-defined and being set to 0.0 in samples with no true labels. Use `zero_division` parameter to control this behavior.\n",
      "  _warn_prf(average, modifier, msg_start, len(result))\n"
     ]
    }
   ],
   "source": [
    "model = define_model(OneVsRestClassifier(LogisticRegression(C = 10, penalty='l2', solver = 'liblinear', random_state=100)), 0.25, 4, None)\n",
    "pred = train_and_test(X_train, y_train, X_test, y_test, model, labels)\n",
    "print(classification_report(\n",
    "    y_test,\n",
    "    pred,\n",
    "    output_dict=False,\n",
    "    target_names=labels\n",
    "))"
   ]
  },
  {
   "cell_type": "code",
   "execution_count": 65,
   "id": "d7a33570",
   "metadata": {},
   "outputs": [
    {
     "name": "stdout",
     "output_type": "stream",
     "text": [
      "               precision    recall  f1-score   support\n",
      "\n",
      "        toxic       0.53      0.86      0.66      6090\n",
      " severe_toxic       0.31      0.39      0.35       367\n",
      "      obscene       0.57      0.78      0.66      3691\n",
      "       threat       0.43      0.16      0.23       211\n",
      "       insult       0.56      0.73      0.63      3427\n",
      "identity_hate       0.63      0.42      0.50       712\n",
      "\n",
      "    micro avg       0.55      0.77      0.64     14498\n",
      "    macro avg       0.51      0.56      0.51     14498\n",
      " weighted avg       0.55      0.77      0.63     14498\n",
      "  samples avg       0.07      0.07      0.07     14498\n",
      "\n"
     ]
    },
    {
     "name": "stderr",
     "output_type": "stream",
     "text": [
      "/home/ec2-user/anaconda3/envs/mxnet_p36/lib/python3.6/site-packages/sklearn/metrics/_classification.py:1245: UndefinedMetricWarning: Precision and F-score are ill-defined and being set to 0.0 in samples with no predicted labels. Use `zero_division` parameter to control this behavior.\n",
      "  _warn_prf(average, modifier, msg_start, len(result))\n",
      "/home/ec2-user/anaconda3/envs/mxnet_p36/lib/python3.6/site-packages/sklearn/metrics/_classification.py:1245: UndefinedMetricWarning: Recall and F-score are ill-defined and being set to 0.0 in samples with no true labels. Use `zero_division` parameter to control this behavior.\n",
      "  _warn_prf(average, modifier, msg_start, len(result))\n"
     ]
    }
   ],
   "source": [
    "model = define_model(OneVsRestClassifier(LinearSVC()), 0.3, 5, None)\n",
    "pred = train_and_test(X_train, y_train, X_test, y_test, model, labels)\n",
    "print(classification_report(\n",
    "    y_test,\n",
    "    pred,\n",
    "    output_dict=False,\n",
    "    target_names=labels\n",
    "))"
   ]
  },
  {
   "cell_type": "code",
   "execution_count": 66,
   "id": "05563f25",
   "metadata": {},
   "outputs": [
    {
     "name": "stdout",
     "output_type": "stream",
     "text": [
      "               precision    recall  f1-score   support\n",
      "\n",
      "        toxic       0.53      0.86      0.66      6090\n",
      " severe_toxic       0.31      0.39      0.35       367\n",
      "      obscene       0.57      0.78      0.66      3691\n",
      "       threat       0.43      0.16      0.23       211\n",
      "       insult       0.56      0.73      0.63      3427\n",
      "identity_hate       0.63      0.42      0.50       712\n",
      "\n",
      "    micro avg       0.55      0.77      0.64     14498\n",
      "    macro avg       0.51      0.56      0.51     14498\n",
      " weighted avg       0.55      0.77      0.63     14498\n",
      "  samples avg       0.07      0.07      0.07     14498\n",
      "\n"
     ]
    },
    {
     "name": "stderr",
     "output_type": "stream",
     "text": [
      "/home/ec2-user/anaconda3/envs/mxnet_p36/lib/python3.6/site-packages/sklearn/metrics/_classification.py:1245: UndefinedMetricWarning: Precision and F-score are ill-defined and being set to 0.0 in samples with no predicted labels. Use `zero_division` parameter to control this behavior.\n",
      "  _warn_prf(average, modifier, msg_start, len(result))\n",
      "/home/ec2-user/anaconda3/envs/mxnet_p36/lib/python3.6/site-packages/sklearn/metrics/_classification.py:1245: UndefinedMetricWarning: Recall and F-score are ill-defined and being set to 0.0 in samples with no true labels. Use `zero_division` parameter to control this behavior.\n",
      "  _warn_prf(average, modifier, msg_start, len(result))\n"
     ]
    }
   ],
   "source": [
    "model = define_model(OneVsRestClassifier(LinearSVC()), 0.25, 5, None)\n",
    "pred = train_and_test(X_train, y_train, X_test, y_test, model, labels)\n",
    "print(classification_report(\n",
    "    y_test,\n",
    "    pred,\n",
    "    output_dict=False,\n",
    "    target_names=labels\n",
    "))"
   ]
  },
  {
   "cell_type": "markdown",
   "id": "4e2cba3d",
   "metadata": {},
   "source": [
    "Now we will use only a subset of the dataset. \n",
    "Some of the uncategorized entries will be dropped to recude the imbalance.\n",
    "\n",
    "Let's start by dropping 50% of the uncategorized data. "
   ]
  },
  {
   "cell_type": "code",
   "execution_count": 195,
   "id": "dc9e8c21",
   "metadata": {},
   "outputs": [
    {
     "data": {
      "text/html": [
       "<div>\n",
       "<style scoped>\n",
       "    .dataframe tbody tr th:only-of-type {\n",
       "        vertical-align: middle;\n",
       "    }\n",
       "\n",
       "    .dataframe tbody tr th {\n",
       "        vertical-align: top;\n",
       "    }\n",
       "\n",
       "    .dataframe thead th {\n",
       "        text-align: right;\n",
       "    }\n",
       "</style>\n",
       "<table border=\"1\" class=\"dataframe\">\n",
       "  <thead>\n",
       "    <tr style=\"text-align: right;\">\n",
       "      <th></th>\n",
       "      <th>id</th>\n",
       "      <th>comment_text</th>\n",
       "      <th>toxic</th>\n",
       "      <th>severe_toxic</th>\n",
       "      <th>obscene</th>\n",
       "      <th>threat</th>\n",
       "      <th>insult</th>\n",
       "      <th>identity_hate</th>\n",
       "    </tr>\n",
       "  </thead>\n",
       "  <tbody>\n",
       "    <tr>\n",
       "      <th>5</th>\n",
       "      <td>00025465d4725e87</td>\n",
       "      <td>congratul well use tool well talk</td>\n",
       "      <td>0</td>\n",
       "      <td>0</td>\n",
       "      <td>0</td>\n",
       "      <td>0</td>\n",
       "      <td>0</td>\n",
       "      <td>0</td>\n",
       "    </tr>\n",
       "    <tr>\n",
       "      <th>6</th>\n",
       "      <td>0002bcb3da6cb337</td>\n",
       "      <td>cocksuck piss around work</td>\n",
       "      <td>1</td>\n",
       "      <td>1</td>\n",
       "      <td>1</td>\n",
       "      <td>0</td>\n",
       "      <td>1</td>\n",
       "      <td>0</td>\n",
       "    </tr>\n",
       "    <tr>\n",
       "      <th>12</th>\n",
       "      <td>0005c987bdfc9d4b</td>\n",
       "      <td>hey talk exclus group wp taliban good destroy ...</td>\n",
       "      <td>1</td>\n",
       "      <td>0</td>\n",
       "      <td>0</td>\n",
       "      <td>0</td>\n",
       "      <td>0</td>\n",
       "      <td>0</td>\n",
       "    </tr>\n",
       "    <tr>\n",
       "      <th>16</th>\n",
       "      <td>0007e25b2121310b</td>\n",
       "      <td>bye look come think com back tosser</td>\n",
       "      <td>1</td>\n",
       "      <td>0</td>\n",
       "      <td>0</td>\n",
       "      <td>0</td>\n",
       "      <td>0</td>\n",
       "      <td>0</td>\n",
       "    </tr>\n",
       "    <tr>\n",
       "      <th>18</th>\n",
       "      <td>0009801bd85e5806</td>\n",
       "      <td>mitsurugi point made sens argu includ hindi ry...</td>\n",
       "      <td>0</td>\n",
       "      <td>0</td>\n",
       "      <td>0</td>\n",
       "      <td>0</td>\n",
       "      <td>0</td>\n",
       "      <td>0</td>\n",
       "    </tr>\n",
       "    <tr>\n",
       "      <th>...</th>\n",
       "      <td>...</td>\n",
       "      <td>...</td>\n",
       "      <td>...</td>\n",
       "      <td>...</td>\n",
       "      <td>...</td>\n",
       "      <td>...</td>\n",
       "      <td>...</td>\n",
       "      <td>...</td>\n",
       "    </tr>\n",
       "    <tr>\n",
       "      <th>159550</th>\n",
       "      <td>ffba5332d6b8fd14</td>\n",
       "      <td>agre anoth note lil wayn talentless man tupac ...</td>\n",
       "      <td>0</td>\n",
       "      <td>0</td>\n",
       "      <td>0</td>\n",
       "      <td>0</td>\n",
       "      <td>0</td>\n",
       "      <td>0</td>\n",
       "    </tr>\n",
       "    <tr>\n",
       "      <th>159554</th>\n",
       "      <td>ffbdbb0483ed0841</td>\n",
       "      <td>go keep post stuff u delet fuck site close fun...</td>\n",
       "      <td>1</td>\n",
       "      <td>0</td>\n",
       "      <td>1</td>\n",
       "      <td>0</td>\n",
       "      <td>1</td>\n",
       "      <td>0</td>\n",
       "    </tr>\n",
       "    <tr>\n",
       "      <th>159563</th>\n",
       "      <td>ffe029a7c79dc7fe</td>\n",
       "      <td>pleas identifi part blp appli blp clear state ...</td>\n",
       "      <td>0</td>\n",
       "      <td>0</td>\n",
       "      <td>0</td>\n",
       "      <td>0</td>\n",
       "      <td>0</td>\n",
       "      <td>0</td>\n",
       "    </tr>\n",
       "    <tr>\n",
       "      <th>159568</th>\n",
       "      <td>ffee36eab5c267c9</td>\n",
       "      <td>spitzer umm there actual articl prostitut ring...</td>\n",
       "      <td>0</td>\n",
       "      <td>0</td>\n",
       "      <td>0</td>\n",
       "      <td>0</td>\n",
       "      <td>0</td>\n",
       "      <td>0</td>\n",
       "    </tr>\n",
       "    <tr>\n",
       "      <th>159569</th>\n",
       "      <td>fff125370e4aaaf3</td>\n",
       "      <td>look like actual put speedi first version dele...</td>\n",
       "      <td>0</td>\n",
       "      <td>0</td>\n",
       "      <td>0</td>\n",
       "      <td>0</td>\n",
       "      <td>0</td>\n",
       "      <td>0</td>\n",
       "    </tr>\n",
       "  </tbody>\n",
       "</table>\n",
       "<p>52659 rows × 8 columns</p>\n",
       "</div>"
      ],
      "text/plain": [
       "                      id                                       comment_text  \\\n",
       "5       00025465d4725e87                  congratul well use tool well talk   \n",
       "6       0002bcb3da6cb337                          cocksuck piss around work   \n",
       "12      0005c987bdfc9d4b  hey talk exclus group wp taliban good destroy ...   \n",
       "16      0007e25b2121310b                bye look come think com back tosser   \n",
       "18      0009801bd85e5806  mitsurugi point made sens argu includ hindi ry...   \n",
       "...                  ...                                                ...   \n",
       "159550  ffba5332d6b8fd14  agre anoth note lil wayn talentless man tupac ...   \n",
       "159554  ffbdbb0483ed0841  go keep post stuff u delet fuck site close fun...   \n",
       "159563  ffe029a7c79dc7fe  pleas identifi part blp appli blp clear state ...   \n",
       "159568  ffee36eab5c267c9  spitzer umm there actual articl prostitut ring...   \n",
       "159569  fff125370e4aaaf3  look like actual put speedi first version dele...   \n",
       "\n",
       "        toxic  severe_toxic  obscene  threat  insult  identity_hate  \n",
       "5           0             0        0       0       0              0  \n",
       "6           1             1        1       0       1              0  \n",
       "12          1             0        0       0       0              0  \n",
       "16          1             0        0       0       0              0  \n",
       "18          0             0        0       0       0              0  \n",
       "...       ...           ...      ...     ...     ...            ...  \n",
       "159550      0             0        0       0       0              0  \n",
       "159554      1             0        1       0       1              0  \n",
       "159563      0             0        0       0       0              0  \n",
       "159568      0             0        0       0       0              0  \n",
       "159569      0             0        0       0       0              0  \n",
       "\n",
       "[52659 rows x 8 columns]"
      ]
     },
     "execution_count": 195,
     "metadata": {},
     "output_type": "execute_result"
    }
   ],
   "source": [
    "drop_index = train[\n",
    "    (train['toxic'] == 0) & \n",
    "    (train['severe_toxic'] == 0) & \n",
    "    (train['obscene'] == 0) & \n",
    "    (train['threat'] == 0) & \n",
    "    (train['insult'] == 0) & \n",
    "    (train['identity_hate'] == 0)\n",
    "           ].sample(frac=1).head(int(len(train)*(67/100))).index\n",
    "train_copy = train[~train.index.isin(drop_index)]\n",
    "train_copy"
   ]
  },
  {
   "cell_type": "code",
   "execution_count": 196,
   "id": "cdbddb76",
   "metadata": {},
   "outputs": [
    {
     "data": {
      "image/png": "[encoded data removed]",
      "text/plain": [
       "<Figure size 648x504 with 1 Axes>"
      ]
     },
     "metadata": {},
     "output_type": "display_data"
    }
   ],
   "source": [
    "plot_data(train_copy)"
   ]
  },
  {
   "cell_type": "code",
   "execution_count": 191,
   "id": "acaaa086",
   "metadata": {},
   "outputs": [
    {
     "data": {
      "text/html": [
       "<div>\n",
       "<style scoped>\n",
       "    .dataframe tbody tr th:only-of-type {\n",
       "        vertical-align: middle;\n",
       "    }\n",
       "\n",
       "    .dataframe tbody tr th {\n",
       "        vertical-align: top;\n",
       "    }\n",
       "\n",
       "    .dataframe thead th {\n",
       "        text-align: right;\n",
       "    }\n",
       "</style>\n",
       "<table border=\"1\" class=\"dataframe\">\n",
       "  <thead>\n",
       "    <tr style=\"text-align: right;\">\n",
       "      <th></th>\n",
       "      <th>index</th>\n",
       "      <th>id</th>\n",
       "      <th>toxic</th>\n",
       "      <th>severe_toxic</th>\n",
       "      <th>obscene</th>\n",
       "      <th>threat</th>\n",
       "      <th>insult</th>\n",
       "      <th>identity_hate</th>\n",
       "    </tr>\n",
       "  </thead>\n",
       "  <tbody>\n",
       "    <tr>\n",
       "      <th>0</th>\n",
       "      <td>7</td>\n",
       "      <td>000247e83dcc1211</td>\n",
       "      <td>0</td>\n",
       "      <td>0</td>\n",
       "      <td>0</td>\n",
       "      <td>0</td>\n",
       "      <td>0</td>\n",
       "      <td>0</td>\n",
       "    </tr>\n",
       "    <tr>\n",
       "      <th>1</th>\n",
       "      <td>21</td>\n",
       "      <td>00091c35fa9d0465</td>\n",
       "      <td>1</td>\n",
       "      <td>0</td>\n",
       "      <td>0</td>\n",
       "      <td>0</td>\n",
       "      <td>0</td>\n",
       "      <td>0</td>\n",
       "    </tr>\n",
       "    <tr>\n",
       "      <th>2</th>\n",
       "      <td>43</td>\n",
       "      <td>0012bb72f20ae971</td>\n",
       "      <td>0</td>\n",
       "      <td>0</td>\n",
       "      <td>0</td>\n",
       "      <td>0</td>\n",
       "      <td>0</td>\n",
       "      <td>0</td>\n",
       "    </tr>\n",
       "    <tr>\n",
       "      <th>3</th>\n",
       "      <td>48</td>\n",
       "      <td>0013fed3aeae76b7</td>\n",
       "      <td>1</td>\n",
       "      <td>0</td>\n",
       "      <td>1</td>\n",
       "      <td>0</td>\n",
       "      <td>1</td>\n",
       "      <td>1</td>\n",
       "    </tr>\n",
       "    <tr>\n",
       "      <th>4</th>\n",
       "      <td>58</td>\n",
       "      <td>00177176f33f587e</td>\n",
       "      <td>0</td>\n",
       "      <td>0</td>\n",
       "      <td>0</td>\n",
       "      <td>0</td>\n",
       "      <td>0</td>\n",
       "      <td>0</td>\n",
       "    </tr>\n",
       "    <tr>\n",
       "      <th>...</th>\n",
       "      <td>...</td>\n",
       "      <td>...</td>\n",
       "      <td>...</td>\n",
       "      <td>...</td>\n",
       "      <td>...</td>\n",
       "      <td>...</td>\n",
       "      <td>...</td>\n",
       "      <td>...</td>\n",
       "    </tr>\n",
       "    <tr>\n",
       "      <th>11315</th>\n",
       "      <td>153078</td>\n",
       "      <td>ffdf6854b41d9102</td>\n",
       "      <td>1</td>\n",
       "      <td>0</td>\n",
       "      <td>0</td>\n",
       "      <td>0</td>\n",
       "      <td>0</td>\n",
       "      <td>0</td>\n",
       "    </tr>\n",
       "    <tr>\n",
       "      <th>11316</th>\n",
       "      <td>153100</td>\n",
       "      <td>ffe5685dbc45e616</td>\n",
       "      <td>0</td>\n",
       "      <td>0</td>\n",
       "      <td>0</td>\n",
       "      <td>0</td>\n",
       "      <td>0</td>\n",
       "      <td>0</td>\n",
       "    </tr>\n",
       "    <tr>\n",
       "      <th>11317</th>\n",
       "      <td>153119</td>\n",
       "      <td>ffebe90c8d5acaba</td>\n",
       "      <td>1</td>\n",
       "      <td>0</td>\n",
       "      <td>1</td>\n",
       "      <td>0</td>\n",
       "      <td>0</td>\n",
       "      <td>0</td>\n",
       "    </tr>\n",
       "    <tr>\n",
       "      <th>11318</th>\n",
       "      <td>153147</td>\n",
       "      <td>fff83b80284d8440</td>\n",
       "      <td>0</td>\n",
       "      <td>0</td>\n",
       "      <td>0</td>\n",
       "      <td>0</td>\n",
       "      <td>0</td>\n",
       "      <td>0</td>\n",
       "    </tr>\n",
       "    <tr>\n",
       "      <th>11319</th>\n",
       "      <td>153155</td>\n",
       "      <td>fffac2a094c8e0e2</td>\n",
       "      <td>1</td>\n",
       "      <td>0</td>\n",
       "      <td>1</td>\n",
       "      <td>0</td>\n",
       "      <td>1</td>\n",
       "      <td>0</td>\n",
       "    </tr>\n",
       "  </tbody>\n",
       "</table>\n",
       "<p>11320 rows × 8 columns</p>\n",
       "</div>"
      ],
      "text/plain": [
       "        index                id  toxic  severe_toxic  obscene  threat  insult  \\\n",
       "0           7  000247e83dcc1211      0             0        0       0       0   \n",
       "1          21  00091c35fa9d0465      1             0        0       0       0   \n",
       "2          43  0012bb72f20ae971      0             0        0       0       0   \n",
       "3          48  0013fed3aeae76b7      1             0        1       0       1   \n",
       "4          58  00177176f33f587e      0             0        0       0       0   \n",
       "...       ...               ...    ...           ...      ...     ...     ...   \n",
       "11315  153078  ffdf6854b41d9102      1             0        0       0       0   \n",
       "11316  153100  ffe5685dbc45e616      0             0        0       0       0   \n",
       "11317  153119  ffebe90c8d5acaba      1             0        1       0       0   \n",
       "11318  153147  fff83b80284d8440      0             0        0       0       0   \n",
       "11319  153155  fffac2a094c8e0e2      1             0        1       0       1   \n",
       "\n",
       "       identity_hate  \n",
       "0                  0  \n",
       "1                  0  \n",
       "2                  0  \n",
       "3                  1  \n",
       "4                  0  \n",
       "...              ...  \n",
       "11315              0  \n",
       "11316              0  \n",
       "11317              0  \n",
       "11318              0  \n",
       "11319              0  \n",
       "\n",
       "[11320 rows x 8 columns]"
      ]
     },
     "execution_count": 191,
     "metadata": {},
     "output_type": "execute_result"
    }
   ],
   "source": [
    "drop_index = test_labels[\n",
    "    (test_labels['toxic'] == 0) & \n",
    "    (test_labels['severe_toxic'] == 0) & \n",
    "    (test_labels['obscene'] == 0) & \n",
    "    (test_labels['threat'] == 0) & \n",
    "    (test_labels['insult'] == 0) & \n",
    "    (test_labels['identity_hate'] == 0)\n",
    "           ].sample(frac=1).head(int(len(train)*(33/100))).id\n",
    "test_copy = test[~test.id.isin(drop_index)]\n",
    "test_labels_copy = test_labels[~test_labels.id.isin(drop_index)].reset_index()\n",
    "test_labels_copy"
   ]
  },
  {
   "cell_type": "code",
   "execution_count": 190,
   "id": "5c94e8b2",
   "metadata": {},
   "outputs": [
    {
     "data": {
      "image/png": "[encoded data removed]",
      "text/plain": [
       "<Figure size 648x504 with 1 Axes>"
      ]
     },
     "metadata": {},
     "output_type": "display_data"
    }
   ],
   "source": [
    "plot_data(test_labels_copy)"
   ]
  },
  {
   "cell_type": "code",
   "execution_count": 197,
   "id": "48c1cafe",
   "metadata": {},
   "outputs": [],
   "source": [
    "X_train = train_copy['comment_text']\n",
    "y_train = train_copy[labels]\n",
    "\n",
    "X_test = test_copy['comment_text']\n",
    "y_test = test_labels_copy[labels]"
   ]
  },
  {
   "cell_type": "code",
   "execution_count": 198,
   "id": "a667b057",
   "metadata": {},
   "outputs": [
    {
     "name": "stdout",
     "output_type": "stream",
     "text": [
      "               precision    recall  f1-score   support\n",
      "\n",
      "        toxic       0.97      0.40      0.57      6090\n",
      " severe_toxic       0.00      0.00      0.00       367\n",
      "      obscene       0.97      0.15      0.27      3691\n",
      "       threat       0.00      0.00      0.00       211\n",
      "       insult       0.93      0.07      0.13      3427\n",
      "identity_hate       0.00      0.00      0.00       712\n",
      "\n",
      "    micro avg       0.97      0.23      0.37     14498\n",
      "    macro avg       0.48      0.10      0.16     14498\n",
      " weighted avg       0.88      0.23      0.34     14498\n",
      "  samples avg       0.22      0.11      0.14     14498\n",
      "\n",
      "CPU times: user 7.12 s, sys: 52.6 ms, total: 7.17 s\n",
      "Wall time: 7.17 s\n"
     ]
    },
    {
     "name": "stderr",
     "output_type": "stream",
     "text": [
      "/home/ec2-user/anaconda3/envs/mxnet_p36/lib/python3.6/site-packages/sklearn/metrics/_classification.py:1245: UndefinedMetricWarning: Precision and F-score are ill-defined and being set to 0.0 in labels with no predicted samples. Use `zero_division` parameter to control this behavior.\n",
      "  _warn_prf(average, modifier, msg_start, len(result))\n",
      "/home/ec2-user/anaconda3/envs/mxnet_p36/lib/python3.6/site-packages/sklearn/metrics/_classification.py:1245: UndefinedMetricWarning: Precision and F-score are ill-defined and being set to 0.0 in samples with no predicted labels. Use `zero_division` parameter to control this behavior.\n",
      "  _warn_prf(average, modifier, msg_start, len(result))\n",
      "/home/ec2-user/anaconda3/envs/mxnet_p36/lib/python3.6/site-packages/sklearn/metrics/_classification.py:1245: UndefinedMetricWarning: Recall and F-score are ill-defined and being set to 0.0 in samples with no true labels. Use `zero_division` parameter to control this behavior.\n",
      "  _warn_prf(average, modifier, msg_start, len(result))\n"
     ]
    }
   ],
   "source": [
    "%%time\n",
    "\n",
    "model = define_model(OneVsRestClassifier(MultinomialNB(\n",
    "                    fit_prior=True, class_prior=None)), 0.25, 2, None)\n",
    "pred = train_and_test(X_train, y_train, X_test, y_test, model, labels)\n",
    "print(classification_report(\n",
    "    y_test,\n",
    "    pred,\n",
    "    output_dict=False,\n",
    "    target_names=labels\n",
    "))"
   ]
  },
  {
   "cell_type": "code",
   "execution_count": 199,
   "id": "833ee8b9",
   "metadata": {},
   "outputs": [
    {
     "name": "stdout",
     "output_type": "stream",
     "text": [
      "               precision    recall  f1-score   support\n",
      "\n",
      "        toxic       0.89      0.90      0.89      6090\n",
      " severe_toxic       0.37      0.35      0.36       367\n",
      "      obscene       0.81      0.77      0.79      3691\n",
      "       threat       0.53      0.25      0.34       211\n",
      "       insult       0.74      0.69      0.71      3427\n",
      "identity_hate       0.80      0.46      0.59       712\n",
      "\n",
      "    micro avg       0.81      0.77      0.79     14498\n",
      "    macro avg       0.69      0.57      0.61     14498\n",
      " weighted avg       0.81      0.77      0.79     14498\n",
      "  samples avg       0.44      0.43      0.42     14498\n",
      "\n",
      "CPU times: user 8.75 s, sys: 82.9 ms, total: 8.83 s\n",
      "Wall time: 8.83 s\n"
     ]
    },
    {
     "name": "stderr",
     "output_type": "stream",
     "text": [
      "/home/ec2-user/anaconda3/envs/mxnet_p36/lib/python3.6/site-packages/sklearn/metrics/_classification.py:1245: UndefinedMetricWarning: Precision and F-score are ill-defined and being set to 0.0 in samples with no predicted labels. Use `zero_division` parameter to control this behavior.\n",
      "  _warn_prf(average, modifier, msg_start, len(result))\n",
      "/home/ec2-user/anaconda3/envs/mxnet_p36/lib/python3.6/site-packages/sklearn/metrics/_classification.py:1245: UndefinedMetricWarning: Recall and F-score are ill-defined and being set to 0.0 in samples with no true labels. Use `zero_division` parameter to control this behavior.\n",
      "  _warn_prf(average, modifier, msg_start, len(result))\n"
     ]
    }
   ],
   "source": [
    "%%time\n",
    "\n",
    "model = define_model(OneVsRestClassifier(LinearSVC()), 0.25, 2, None)\n",
    "pred = train_and_test(X_train, y_train, X_test, y_test, model, labels)\n",
    "print(classification_report(\n",
    "    y_test,\n",
    "    pred,\n",
    "    output_dict=False,\n",
    "    target_names=labels\n",
    "))"
   ]
  },
  {
   "cell_type": "code",
   "execution_count": 200,
   "id": "922240a7",
   "metadata": {},
   "outputs": [
    {
     "name": "stdout",
     "output_type": "stream",
     "text": [
      "               precision    recall  f1-score   support\n",
      "\n",
      "        toxic       0.91      0.83      0.87      6090\n",
      " severe_toxic       0.31      0.29      0.30       367\n",
      "      obscene       0.86      0.69      0.76      3691\n",
      "       threat       0.49      0.10      0.17       211\n",
      "       insult       0.76      0.62      0.69      3427\n",
      "identity_hate       0.83      0.31      0.45       712\n",
      "\n",
      "    micro avg       0.84      0.70      0.76     14498\n",
      "    macro avg       0.69      0.47      0.54     14498\n",
      " weighted avg       0.84      0.70      0.75     14498\n",
      "  samples avg       0.41      0.38      0.38     14498\n",
      "\n"
     ]
    },
    {
     "name": "stderr",
     "output_type": "stream",
     "text": [
      "/home/ec2-user/anaconda3/envs/mxnet_p36/lib/python3.6/site-packages/sklearn/metrics/_classification.py:1245: UndefinedMetricWarning: Precision and F-score are ill-defined and being set to 0.0 in samples with no predicted labels. Use `zero_division` parameter to control this behavior.\n",
      "  _warn_prf(average, modifier, msg_start, len(result))\n",
      "/home/ec2-user/anaconda3/envs/mxnet_p36/lib/python3.6/site-packages/sklearn/metrics/_classification.py:1245: UndefinedMetricWarning: Recall and F-score are ill-defined and being set to 0.0 in samples with no true labels. Use `zero_division` parameter to control this behavior.\n",
      "  _warn_prf(average, modifier, msg_start, len(result))\n"
     ]
    }
   ],
   "source": [
    "# logistic Regresssion \n",
    "\n",
    "model = define_model(OneVsRestClassifier(LogisticRegression()), 0.25, 2, None)\n",
    "pred = train_and_test(X_train, y_train, X_test, y_test, model, labels)\n",
    "print(classification_report(\n",
    "    y_test,\n",
    "    pred,\n",
    "    output_dict=False,\n",
    "    target_names=labels\n",
    "))"
   ]
  },
  {
   "cell_type": "code",
   "execution_count": 201,
   "id": "97be4658",
   "metadata": {},
   "outputs": [
    {
     "name": "stdout",
     "output_type": "stream",
     "text": [
      "               precision    recall  f1-score   support\n",
      "\n",
      "        toxic       0.89      0.90      0.89      6090\n",
      " severe_toxic       0.37      0.35      0.36       367\n",
      "      obscene       0.81      0.77      0.79      3691\n",
      "       threat       0.53      0.25      0.34       211\n",
      "       insult       0.74      0.69      0.71      3427\n",
      "identity_hate       0.80      0.46      0.59       712\n",
      "\n",
      "    micro avg       0.81      0.77      0.79     14498\n",
      "    macro avg       0.69      0.57      0.61     14498\n",
      " weighted avg       0.81      0.77      0.79     14498\n",
      "  samples avg       0.44      0.43      0.42     14498\n",
      "\n",
      "CPU times: user 8.53 s, sys: 20.6 ms, total: 8.56 s\n",
      "Wall time: 8.55 s\n"
     ]
    },
    {
     "name": "stderr",
     "output_type": "stream",
     "text": [
      "/home/ec2-user/anaconda3/envs/mxnet_p36/lib/python3.6/site-packages/sklearn/metrics/_classification.py:1245: UndefinedMetricWarning: Precision and F-score are ill-defined and being set to 0.0 in samples with no predicted labels. Use `zero_division` parameter to control this behavior.\n",
      "  _warn_prf(average, modifier, msg_start, len(result))\n",
      "/home/ec2-user/anaconda3/envs/mxnet_p36/lib/python3.6/site-packages/sklearn/metrics/_classification.py:1245: UndefinedMetricWarning: Recall and F-score are ill-defined and being set to 0.0 in samples with no true labels. Use `zero_division` parameter to control this behavior.\n",
      "  _warn_prf(average, modifier, msg_start, len(result))\n"
     ]
    }
   ],
   "source": [
    "%%time\n",
    "# Linear SVC with random_state=42 \n",
    "\n",
    "\n",
    "model = define_model(OneVsRestClassifier(LinearSVC(random_state=42)), 0.25, 2, None)\n",
    "pred = train_and_test(X_train, y_train, X_test, y_test, model, labels)\n",
    "print(classification_report(\n",
    "    y_test,\n",
    "    pred,\n",
    "    output_dict=False,\n",
    "    target_names=labels\n",
    "))\n"
   ]
  },
  {
   "cell_type": "code",
   "execution_count": 203,
   "id": "d7164191",
   "metadata": {},
   "outputs": [
    {
     "name": "stdout",
     "output_type": "stream",
     "text": [
      "               precision    recall  f1-score   support\n",
      "\n",
      "        toxic       0.89      0.87      0.88      6090\n",
      " severe_toxic       0.38      0.33      0.35       367\n",
      "      obscene       0.83      0.73      0.77      3691\n",
      "       threat       0.56      0.30      0.39       211\n",
      "       insult       0.75      0.62      0.68      3427\n",
      "identity_hate       0.81      0.42      0.56       712\n",
      "\n",
      "    micro avg       0.83      0.73      0.78     14498\n",
      "    macro avg       0.70      0.54      0.61     14498\n",
      " weighted avg       0.82      0.73      0.77     14498\n",
      "  samples avg       0.43      0.40      0.40     14498\n",
      "\n",
      "CPU times: user 7.36 s, sys: 5.83 ms, total: 7.37 s\n",
      "Wall time: 7.37 s\n"
     ]
    },
    {
     "name": "stderr",
     "output_type": "stream",
     "text": [
      "/home/ec2-user/anaconda3/envs/mxnet_p36/lib/python3.6/site-packages/sklearn/metrics/_classification.py:1245: UndefinedMetricWarning: Precision and F-score are ill-defined and being set to 0.0 in samples with no predicted labels. Use `zero_division` parameter to control this behavior.\n",
      "  _warn_prf(average, modifier, msg_start, len(result))\n",
      "/home/ec2-user/anaconda3/envs/mxnet_p36/lib/python3.6/site-packages/sklearn/metrics/_classification.py:1245: UndefinedMetricWarning: Recall and F-score are ill-defined and being set to 0.0 in samples with no true labels. Use `zero_division` parameter to control this behavior.\n",
      "  _warn_prf(average, modifier, msg_start, len(result))\n"
     ]
    }
   ],
   "source": [
    "%%time\n",
    "# Linear SVC with random_state=42 \n",
    "\n",
    "\n",
    "model = define_model(OneVsRestClassifier(LinearSVC(random_state=42)), 0.25, 2, 50000)\n",
    "pred = train_and_test(X_train, y_train, X_test, y_test, model, labels)\n",
    "print(classification_report(\n",
    "    y_test,\n",
    "    pred,\n",
    "    output_dict=False,\n",
    "    target_names=labels\n",
    "))"
   ]
  },
  {
   "cell_type": "code",
   "execution_count": 206,
   "id": "3e1aaf2d",
   "metadata": {},
   "outputs": [
    {
     "name": "stdout",
     "output_type": "stream",
     "text": [
      "               precision    recall  f1-score   support\n",
      "\n",
      "        toxic       0.88      0.91      0.90      6090\n",
      " severe_toxic       0.33      0.38      0.35       367\n",
      "      obscene       0.78      0.80      0.79      3691\n",
      "       threat       0.51      0.23      0.32       211\n",
      "       insult       0.71      0.75      0.73      3427\n",
      "identity_hate       0.78      0.48      0.59       712\n",
      "\n",
      "    micro avg       0.79      0.80      0.79     14498\n",
      "    macro avg       0.66      0.59      0.61     14498\n",
      " weighted avg       0.79      0.80      0.79     14498\n",
      "  samples avg       0.43      0.44      0.42     14498\n",
      "\n",
      "CPU times: user 26.7 s, sys: 806 ms, total: 27.5 s\n",
      "Wall time: 27.5 s\n"
     ]
    },
    {
     "name": "stderr",
     "output_type": "stream",
     "text": [
      "/home/ec2-user/anaconda3/envs/mxnet_p36/lib/python3.6/site-packages/sklearn/metrics/_classification.py:1245: UndefinedMetricWarning: Precision and F-score are ill-defined and being set to 0.0 in samples with no predicted labels. Use `zero_division` parameter to control this behavior.\n",
      "  _warn_prf(average, modifier, msg_start, len(result))\n",
      "/home/ec2-user/anaconda3/envs/mxnet_p36/lib/python3.6/site-packages/sklearn/metrics/_classification.py:1245: UndefinedMetricWarning: Recall and F-score are ill-defined and being set to 0.0 in samples with no true labels. Use `zero_division` parameter to control this behavior.\n",
      "  _warn_prf(average, modifier, msg_start, len(result))\n"
     ]
    }
   ],
   "source": [
    "%%time\n",
    "# Deceision Tree\n",
    "\n",
    "model = define_model(OneVsRestClassifier(LinearSVC(random_state=42)), 0.5, 4, None)\n",
    "pred = train_and_test(X_train, y_train, X_test, y_test, model, labels)\n",
    "print(classification_report(\n",
    "    y_test,\n",
    "    pred,\n",
    "    output_dict=False,\n",
    "    target_names=labels\n",
    "))"
   ]
  },
  {
   "cell_type": "code",
   "execution_count": 207,
   "id": "ee021d73",
   "metadata": {},
   "outputs": [
    {
     "name": "stdout",
     "output_type": "stream",
     "text": [
      "               precision    recall  f1-score   support\n",
      "\n",
      "        toxic       0.91      0.83      0.87      6090\n",
      " severe_toxic       0.29      0.37      0.33       367\n",
      "      obscene       0.84      0.71      0.77      3691\n",
      "       threat       0.53      0.09      0.15       211\n",
      "       insult       0.74      0.67      0.70      3427\n",
      "identity_hate       0.82      0.32      0.46       712\n",
      "\n",
      "    micro avg       0.82      0.71      0.76     14498\n",
      "    macro avg       0.69      0.50      0.55     14498\n",
      " weighted avg       0.82      0.71      0.76     14498\n",
      "  samples avg       0.40      0.38      0.37     14498\n",
      "\n"
     ]
    },
    {
     "name": "stderr",
     "output_type": "stream",
     "text": [
      "/home/ec2-user/anaconda3/envs/mxnet_p36/lib/python3.6/site-packages/sklearn/metrics/_classification.py:1245: UndefinedMetricWarning: Precision and F-score are ill-defined and being set to 0.0 in samples with no predicted labels. Use `zero_division` parameter to control this behavior.\n",
      "  _warn_prf(average, modifier, msg_start, len(result))\n",
      "/home/ec2-user/anaconda3/envs/mxnet_p36/lib/python3.6/site-packages/sklearn/metrics/_classification.py:1245: UndefinedMetricWarning: Recall and F-score are ill-defined and being set to 0.0 in samples with no true labels. Use `zero_division` parameter to control this behavior.\n",
      "  _warn_prf(average, modifier, msg_start, len(result))\n"
     ]
    }
   ],
   "source": [
    "model = define_model(OneVsRestClassifier(LogisticRegression()), 0.25, 4, None)\n",
    "pred = train_and_test(X_train, y_train, X_test, y_test, model, labels)\n",
    "print(classification_report(\n",
    "    y_test,\n",
    "    pred,\n",
    "    output_dict=False,\n",
    "    target_names=labels\n",
    "))"
   ]
  },
  {
   "cell_type": "markdown",
   "id": "4cd5307d",
   "metadata": {},
   "source": [
    "## 4. Conclusion\n",
    "\n",
    "The best model obtained is: \n"
   ]
  }
 ],
 "metadata": {
  "interpreter": {
   "hash": "c523a99d054115d555410f3112007b2c34232efc9bbc5ffe25de22e8bb4f9dd5"
  },
  "kernelspec": {
   "display_name": "conda_mxnet_p36",
   "language": "python",
   "name": "conda_mxnet_p36"
  },
  "language_info": {
   "codemirror_mode": {
    "name": "ipython",
    "version": 3
   },
   "file_extension": ".py",
   "mimetype": "text/x-python",
   "name": "python",
   "nbconvert_exporter": "python",
   "pygments_lexer": "ipython3",
   "version": "3.6.13"
  }
 },
 "nbformat": 4,
 "nbformat_minor": 5
}
